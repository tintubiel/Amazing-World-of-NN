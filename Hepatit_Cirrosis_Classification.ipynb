{
 "cells": [
  {
   "cell_type": "markdown",
   "id": "b00403d8-3dd2-4f30-8726-0fd83ece6de8",
   "metadata": {},
   "source": [
    "# **Классификация степени поражения печени у пациентов**"
   ]
  },
  {
   "cell_type": "markdown",
   "id": "916c628e-c54e-4ed5-abc6-07aa35252704",
   "metadata": {},
   "source": [
    "<div style=\"border:solid #8A2BE2 2px; padding: 40px\">\n",
    "    \n",
    "**Cсылка на используемый датасет** [HCV_data](https://archive.ics.uci.edu/ml/datasets/HCV+data)\n",
    "    \n",
    "* **X** - идентификационный номер пациента\n",
    "* **Category** (diagnosis) (values: '0=Blood Donor', '0s=suspect Blood Donor', '1=Hepatitis', '2=Fibrosis', '3=Cirrhosis')\n",
    "* **Age** - возраст в годах\n",
    "* **Sex** - пол женский/мужской\n",
    "* **ALB** - альбумин крови\n",
    "* **ALP** - щелочная фосфатаза\n",
    "* **ALT** - аланинтрансаминаза\n",
    "* **AST** - аспартатаминотрансфераза\n",
    "* **BIL** - билирубин крови\n",
    "* **CHE** - холинэстераза\n",
    "* **CHOL** - холестирин общий\n",
    "* **CREA** - креатинин\n",
    "* **GGT** - гамма-глутамилтрансфераза\n",
    "* **PROT** - протеин"
   ]
  },
  {
   "cell_type": "markdown",
   "id": "124e7797-bb4d-49d0-a002-14aa046e84ed",
   "metadata": {},
   "source": [
    "<div style=\"border:solid #8A2BE2 2px; padding: 40px\">\n",
    "\n",
    "**Цель исследования**\n",
    "    \n",
    "Построение модели предсказания класса поражения печени пациентов.\n",
    "\n",
    "**Ход исследования**\n",
    "\n",
    "* Загрузка и подготовка данных.\n",
    "* Создание моделей классификации\n",
    "* Проверка оптимальности архитектуры моделей"
   ]
  },
  {
   "cell_type": "markdown",
   "id": "f64b9e45-3393-4a07-a395-45e27158a745",
   "metadata": {},
   "source": [
    "## 1. Обзор данных"
   ]
  },
  {
   "cell_type": "code",
   "execution_count": 334,
   "id": "2aadae28-ade4-4a05-8546-e606ddcb66e2",
   "metadata": {},
   "outputs": [],
   "source": [
    "import pandas as pd\n",
    "import numpy as np\n",
    "from sklearn.model_selection import StratifiedKFold\n",
    "\n",
    "import seaborn as sns\n",
    "\n",
    "from matplotlib import pyplot as plt\n",
    "from sklearn.preprocessing import StandardScaler\n",
    "from sklearn.model_selection import ParameterGrid\n",
    "import torch\n",
    "import torch.nn as nn\n",
    "\n",
    "from tqdm.notebook import tqdm\n",
    "from sklearn.metrics import f1_score"
   ]
  },
  {
   "cell_type": "code",
   "execution_count": 335,
   "id": "fb21ed79-b94f-43a7-8ad6-ba6445ecd659",
   "metadata": {},
   "outputs": [
    {
     "data": {
      "text/html": [
       "<div>\n",
       "<style scoped>\n",
       "    .dataframe tbody tr th:only-of-type {\n",
       "        vertical-align: middle;\n",
       "    }\n",
       "\n",
       "    .dataframe tbody tr th {\n",
       "        vertical-align: top;\n",
       "    }\n",
       "\n",
       "    .dataframe thead th {\n",
       "        text-align: right;\n",
       "    }\n",
       "</style>\n",
       "<table border=\"1\" class=\"dataframe\">\n",
       "  <thead>\n",
       "    <tr style=\"text-align: right;\">\n",
       "      <th></th>\n",
       "      <th>Unnamed: 0</th>\n",
       "      <th>Category</th>\n",
       "      <th>Age</th>\n",
       "      <th>Sex</th>\n",
       "      <th>ALB</th>\n",
       "      <th>ALP</th>\n",
       "      <th>ALT</th>\n",
       "      <th>AST</th>\n",
       "      <th>BIL</th>\n",
       "      <th>CHE</th>\n",
       "      <th>CHOL</th>\n",
       "      <th>CREA</th>\n",
       "      <th>GGT</th>\n",
       "      <th>PROT</th>\n",
       "    </tr>\n",
       "  </thead>\n",
       "  <tbody>\n",
       "    <tr>\n",
       "      <th>0</th>\n",
       "      <td>1</td>\n",
       "      <td>0=Blood Donor</td>\n",
       "      <td>32</td>\n",
       "      <td>m</td>\n",
       "      <td>38.5</td>\n",
       "      <td>52.5</td>\n",
       "      <td>7.7</td>\n",
       "      <td>22.1</td>\n",
       "      <td>7.5</td>\n",
       "      <td>6.93</td>\n",
       "      <td>3.23</td>\n",
       "      <td>106.0</td>\n",
       "      <td>12.1</td>\n",
       "      <td>69.0</td>\n",
       "    </tr>\n",
       "    <tr>\n",
       "      <th>1</th>\n",
       "      <td>2</td>\n",
       "      <td>0=Blood Donor</td>\n",
       "      <td>32</td>\n",
       "      <td>m</td>\n",
       "      <td>38.5</td>\n",
       "      <td>70.3</td>\n",
       "      <td>18.0</td>\n",
       "      <td>24.7</td>\n",
       "      <td>3.9</td>\n",
       "      <td>11.17</td>\n",
       "      <td>4.80</td>\n",
       "      <td>74.0</td>\n",
       "      <td>15.6</td>\n",
       "      <td>76.5</td>\n",
       "    </tr>\n",
       "    <tr>\n",
       "      <th>2</th>\n",
       "      <td>3</td>\n",
       "      <td>0=Blood Donor</td>\n",
       "      <td>32</td>\n",
       "      <td>m</td>\n",
       "      <td>46.9</td>\n",
       "      <td>74.7</td>\n",
       "      <td>36.2</td>\n",
       "      <td>52.6</td>\n",
       "      <td>6.1</td>\n",
       "      <td>8.84</td>\n",
       "      <td>5.20</td>\n",
       "      <td>86.0</td>\n",
       "      <td>33.2</td>\n",
       "      <td>79.3</td>\n",
       "    </tr>\n",
       "    <tr>\n",
       "      <th>3</th>\n",
       "      <td>4</td>\n",
       "      <td>0=Blood Donor</td>\n",
       "      <td>32</td>\n",
       "      <td>m</td>\n",
       "      <td>43.2</td>\n",
       "      <td>52.0</td>\n",
       "      <td>30.6</td>\n",
       "      <td>22.6</td>\n",
       "      <td>18.9</td>\n",
       "      <td>7.33</td>\n",
       "      <td>4.74</td>\n",
       "      <td>80.0</td>\n",
       "      <td>33.8</td>\n",
       "      <td>75.7</td>\n",
       "    </tr>\n",
       "    <tr>\n",
       "      <th>4</th>\n",
       "      <td>5</td>\n",
       "      <td>0=Blood Donor</td>\n",
       "      <td>32</td>\n",
       "      <td>m</td>\n",
       "      <td>39.2</td>\n",
       "      <td>74.1</td>\n",
       "      <td>32.6</td>\n",
       "      <td>24.8</td>\n",
       "      <td>9.6</td>\n",
       "      <td>9.15</td>\n",
       "      <td>4.32</td>\n",
       "      <td>76.0</td>\n",
       "      <td>29.9</td>\n",
       "      <td>68.7</td>\n",
       "    </tr>\n",
       "  </tbody>\n",
       "</table>\n",
       "</div>"
      ],
      "text/plain": [
       "   Unnamed: 0       Category  Age Sex   ALB   ALP   ALT   AST   BIL    CHE  \\\n",
       "0           1  0=Blood Donor   32   m  38.5  52.5   7.7  22.1   7.5   6.93   \n",
       "1           2  0=Blood Donor   32   m  38.5  70.3  18.0  24.7   3.9  11.17   \n",
       "2           3  0=Blood Donor   32   m  46.9  74.7  36.2  52.6   6.1   8.84   \n",
       "3           4  0=Blood Donor   32   m  43.2  52.0  30.6  22.6  18.9   7.33   \n",
       "4           5  0=Blood Donor   32   m  39.2  74.1  32.6  24.8   9.6   9.15   \n",
       "\n",
       "   CHOL   CREA   GGT  PROT  \n",
       "0  3.23  106.0  12.1  69.0  \n",
       "1  4.80   74.0  15.6  76.5  \n",
       "2  5.20   86.0  33.2  79.3  \n",
       "3  4.74   80.0  33.8  75.7  \n",
       "4  4.32   76.0  29.9  68.7  "
      ]
     },
     "metadata": {},
     "output_type": "display_data"
    },
    {
     "name": "stdout",
     "output_type": "stream",
     "text": [
      "(615, 14)\n"
     ]
    }
   ],
   "source": [
    "data=pd.read_csv('hcvdat0.csv')\n",
    "display(data.head())\n",
    "print(data.shape)"
   ]
  },
  {
   "cell_type": "markdown",
   "id": "d7ea4531-265a-492c-9640-72d61a166542",
   "metadata": {},
   "source": [
    "## 2. Предобработка данных"
   ]
  },
  {
   "cell_type": "markdown",
   "id": "fcd8b8cb-cebd-40bb-be92-f0127dc9f1c3",
   "metadata": {},
   "source": [
    "### 2.1 Обзор типов данных"
   ]
  },
  {
   "cell_type": "code",
   "execution_count": 336,
   "id": "d7d36a0b-4cc4-48e8-889f-ce742cf0cd78",
   "metadata": {},
   "outputs": [
    {
     "name": "stdout",
     "output_type": "stream",
     "text": [
      "<class 'pandas.core.frame.DataFrame'>\n",
      "RangeIndex: 615 entries, 0 to 614\n",
      "Data columns (total 14 columns):\n",
      " #   Column      Non-Null Count  Dtype  \n",
      "---  ------      --------------  -----  \n",
      " 0   Unnamed: 0  615 non-null    int64  \n",
      " 1   Category    615 non-null    object \n",
      " 2   Age         615 non-null    int64  \n",
      " 3   Sex         615 non-null    object \n",
      " 4   ALB         614 non-null    float64\n",
      " 5   ALP         597 non-null    float64\n",
      " 6   ALT         614 non-null    float64\n",
      " 7   AST         615 non-null    float64\n",
      " 8   BIL         615 non-null    float64\n",
      " 9   CHE         615 non-null    float64\n",
      " 10  CHOL        605 non-null    float64\n",
      " 11  CREA        615 non-null    float64\n",
      " 12  GGT         615 non-null    float64\n",
      " 13  PROT        614 non-null    float64\n",
      "dtypes: float64(10), int64(2), object(2)\n",
      "memory usage: 67.4+ KB\n",
      "Unnamed: 0     0\n",
      "Category       0\n",
      "Age            0\n",
      "Sex            0\n",
      "ALB            1\n",
      "ALP           18\n",
      "ALT            1\n",
      "AST            0\n",
      "BIL            0\n",
      "CHE            0\n",
      "CHOL          10\n",
      "CREA           0\n",
      "GGT            0\n",
      "PROT           1\n",
      "dtype: int64\n",
      "0\n"
     ]
    }
   ],
   "source": [
    "data.info()#общая информация\n",
    "print(data.isna().sum())# наличие пропусков в данных\n",
    "print(data.duplicated().sum())# наличие дубликатов в данных"
   ]
  },
  {
   "cell_type": "code",
   "execution_count": 337,
   "id": "e5da0229-a2f3-4bb8-9bec-6e8b7e8c7aec",
   "metadata": {},
   "outputs": [],
   "source": [
    "data=data.drop(columns='Unnamed: 0')"
   ]
  },
  {
   "cell_type": "markdown",
   "id": "6aa04b93-e47f-4a30-804a-6a675493c755",
   "metadata": {},
   "source": [
    "Есть несколько категорий с пропусками в данных, но дубликатов не обнаружено. Также видим, что имеется два категориальных признака (один из них целевой), которые нужно закодировать. А также есть лишний столбец, дублирующий значение строки."
   ]
  },
  {
   "cell_type": "markdown",
   "id": "d306aec5-5582-4f23-ae7b-5d26c0f50b2f",
   "metadata": {},
   "source": [
    "### 2.2 Проверка пропусков"
   ]
  },
  {
   "cell_type": "code",
   "execution_count": 338,
   "id": "dd211a3e-789d-452f-bf55-c206fd08d06f",
   "metadata": {},
   "outputs": [
    {
     "data": {
      "text/html": [
       "<div>\n",
       "<style scoped>\n",
       "    .dataframe tbody tr th:only-of-type {\n",
       "        vertical-align: middle;\n",
       "    }\n",
       "\n",
       "    .dataframe tbody tr th {\n",
       "        vertical-align: top;\n",
       "    }\n",
       "\n",
       "    .dataframe thead th {\n",
       "        text-align: right;\n",
       "    }\n",
       "</style>\n",
       "<table border=\"1\" class=\"dataframe\">\n",
       "  <thead>\n",
       "    <tr style=\"text-align: right;\">\n",
       "      <th></th>\n",
       "      <th>Category</th>\n",
       "      <th>Age</th>\n",
       "      <th>Sex</th>\n",
       "      <th>ALB</th>\n",
       "      <th>ALP</th>\n",
       "      <th>ALT</th>\n",
       "      <th>AST</th>\n",
       "      <th>BIL</th>\n",
       "      <th>CHE</th>\n",
       "      <th>CHOL</th>\n",
       "      <th>CREA</th>\n",
       "      <th>GGT</th>\n",
       "      <th>PROT</th>\n",
       "    </tr>\n",
       "  </thead>\n",
       "  <tbody>\n",
       "    <tr>\n",
       "      <th>603</th>\n",
       "      <td>3=Cirrhosis</td>\n",
       "      <td>65</td>\n",
       "      <td>m</td>\n",
       "      <td>NaN</td>\n",
       "      <td>NaN</td>\n",
       "      <td>40.0</td>\n",
       "      <td>54.0</td>\n",
       "      <td>13.0</td>\n",
       "      <td>7.5</td>\n",
       "      <td>NaN</td>\n",
       "      <td>70.0</td>\n",
       "      <td>107.0</td>\n",
       "      <td>79.0</td>\n",
       "    </tr>\n",
       "  </tbody>\n",
       "</table>\n",
       "</div>"
      ],
      "text/plain": [
       "        Category  Age Sex  ALB  ALP   ALT   AST   BIL  CHE  CHOL  CREA    GGT  \\\n",
       "603  3=Cirrhosis   65   m  NaN  NaN  40.0  54.0  13.0  7.5   NaN  70.0  107.0   \n",
       "\n",
       "     PROT  \n",
       "603  79.0  "
      ]
     },
     "metadata": {},
     "output_type": "display_data"
    },
    {
     "data": {
      "text/html": [
       "<div>\n",
       "<style scoped>\n",
       "    .dataframe tbody tr th:only-of-type {\n",
       "        vertical-align: middle;\n",
       "    }\n",
       "\n",
       "    .dataframe tbody tr th {\n",
       "        vertical-align: top;\n",
       "    }\n",
       "\n",
       "    .dataframe thead th {\n",
       "        text-align: right;\n",
       "    }\n",
       "</style>\n",
       "<table border=\"1\" class=\"dataframe\">\n",
       "  <thead>\n",
       "    <tr style=\"text-align: right;\">\n",
       "      <th></th>\n",
       "      <th>Category</th>\n",
       "      <th>Age</th>\n",
       "      <th>Sex</th>\n",
       "      <th>ALB</th>\n",
       "      <th>ALP</th>\n",
       "      <th>ALT</th>\n",
       "      <th>AST</th>\n",
       "      <th>BIL</th>\n",
       "      <th>CHE</th>\n",
       "      <th>CHOL</th>\n",
       "      <th>CREA</th>\n",
       "      <th>GGT</th>\n",
       "      <th>PROT</th>\n",
       "    </tr>\n",
       "  </thead>\n",
       "  <tbody>\n",
       "    <tr>\n",
       "      <th>585</th>\n",
       "      <td>3=Cirrhosis</td>\n",
       "      <td>38</td>\n",
       "      <td>m</td>\n",
       "      <td>44.0</td>\n",
       "      <td>NaN</td>\n",
       "      <td>94.0</td>\n",
       "      <td>60.0</td>\n",
       "      <td>12.0</td>\n",
       "      <td>4.37</td>\n",
       "      <td>3.20</td>\n",
       "      <td>61.0</td>\n",
       "      <td>99.0</td>\n",
       "      <td>77.0</td>\n",
       "    </tr>\n",
       "    <tr>\n",
       "      <th>586</th>\n",
       "      <td>3=Cirrhosis</td>\n",
       "      <td>39</td>\n",
       "      <td>m</td>\n",
       "      <td>34.0</td>\n",
       "      <td>137.8</td>\n",
       "      <td>4.8</td>\n",
       "      <td>35.6</td>\n",
       "      <td>9.0</td>\n",
       "      <td>3.65</td>\n",
       "      <td>4.82</td>\n",
       "      <td>519.0</td>\n",
       "      <td>133.4</td>\n",
       "      <td>57.5</td>\n",
       "    </tr>\n",
       "    <tr>\n",
       "      <th>587</th>\n",
       "      <td>3=Cirrhosis</td>\n",
       "      <td>41</td>\n",
       "      <td>m</td>\n",
       "      <td>31.0</td>\n",
       "      <td>85.3</td>\n",
       "      <td>4.8</td>\n",
       "      <td>60.2</td>\n",
       "      <td>200.0</td>\n",
       "      <td>1.80</td>\n",
       "      <td>5.34</td>\n",
       "      <td>106.4</td>\n",
       "      <td>151.0</td>\n",
       "      <td>71.8</td>\n",
       "    </tr>\n",
       "    <tr>\n",
       "      <th>588</th>\n",
       "      <td>3=Cirrhosis</td>\n",
       "      <td>42</td>\n",
       "      <td>m</td>\n",
       "      <td>36.0</td>\n",
       "      <td>69.6</td>\n",
       "      <td>14.9</td>\n",
       "      <td>263.1</td>\n",
       "      <td>40.0</td>\n",
       "      <td>3.61</td>\n",
       "      <td>3.93</td>\n",
       "      <td>49.6</td>\n",
       "      <td>61.0</td>\n",
       "      <td>68.6</td>\n",
       "    </tr>\n",
       "    <tr>\n",
       "      <th>589</th>\n",
       "      <td>3=Cirrhosis</td>\n",
       "      <td>45</td>\n",
       "      <td>m</td>\n",
       "      <td>29.0</td>\n",
       "      <td>11.3</td>\n",
       "      <td>7.1</td>\n",
       "      <td>101.9</td>\n",
       "      <td>31.0</td>\n",
       "      <td>1.73</td>\n",
       "      <td>3.71</td>\n",
       "      <td>76.7</td>\n",
       "      <td>65.6</td>\n",
       "      <td>70.0</td>\n",
       "    </tr>\n",
       "    <tr>\n",
       "      <th>590</th>\n",
       "      <td>3=Cirrhosis</td>\n",
       "      <td>46</td>\n",
       "      <td>m</td>\n",
       "      <td>20.0</td>\n",
       "      <td>NaN</td>\n",
       "      <td>62.0</td>\n",
       "      <td>113.0</td>\n",
       "      <td>254.0</td>\n",
       "      <td>1.48</td>\n",
       "      <td>NaN</td>\n",
       "      <td>114.0</td>\n",
       "      <td>138.0</td>\n",
       "      <td>NaN</td>\n",
       "    </tr>\n",
       "    <tr>\n",
       "      <th>591</th>\n",
       "      <td>3=Cirrhosis</td>\n",
       "      <td>46</td>\n",
       "      <td>m</td>\n",
       "      <td>35.0</td>\n",
       "      <td>109.6</td>\n",
       "      <td>2.3</td>\n",
       "      <td>19.2</td>\n",
       "      <td>11.0</td>\n",
       "      <td>7.10</td>\n",
       "      <td>4.10</td>\n",
       "      <td>1079.1</td>\n",
       "      <td>105.6</td>\n",
       "      <td>69.1</td>\n",
       "    </tr>\n",
       "    <tr>\n",
       "      <th>592</th>\n",
       "      <td>3=Cirrhosis</td>\n",
       "      <td>47</td>\n",
       "      <td>m</td>\n",
       "      <td>42.0</td>\n",
       "      <td>NaN</td>\n",
       "      <td>159.0</td>\n",
       "      <td>102.0</td>\n",
       "      <td>11.0</td>\n",
       "      <td>6.29</td>\n",
       "      <td>5.50</td>\n",
       "      <td>58.0</td>\n",
       "      <td>201.0</td>\n",
       "      <td>79.0</td>\n",
       "    </tr>\n",
       "    <tr>\n",
       "      <th>593</th>\n",
       "      <td>3=Cirrhosis</td>\n",
       "      <td>51</td>\n",
       "      <td>m</td>\n",
       "      <td>39.0</td>\n",
       "      <td>66.0</td>\n",
       "      <td>29.6</td>\n",
       "      <td>185.0</td>\n",
       "      <td>19.0</td>\n",
       "      <td>2.00</td>\n",
       "      <td>3.60</td>\n",
       "      <td>58.3</td>\n",
       "      <td>399.5</td>\n",
       "      <td>79.4</td>\n",
       "    </tr>\n",
       "    <tr>\n",
       "      <th>594</th>\n",
       "      <td>3=Cirrhosis</td>\n",
       "      <td>51</td>\n",
       "      <td>m</td>\n",
       "      <td>33.0</td>\n",
       "      <td>29.6</td>\n",
       "      <td>4.5</td>\n",
       "      <td>66.6</td>\n",
       "      <td>91.0</td>\n",
       "      <td>4.02</td>\n",
       "      <td>4.08</td>\n",
       "      <td>75.9</td>\n",
       "      <td>28.5</td>\n",
       "      <td>62.3</td>\n",
       "    </tr>\n",
       "    <tr>\n",
       "      <th>595</th>\n",
       "      <td>3=Cirrhosis</td>\n",
       "      <td>56</td>\n",
       "      <td>m</td>\n",
       "      <td>27.0</td>\n",
       "      <td>81.1</td>\n",
       "      <td>17.0</td>\n",
       "      <td>319.8</td>\n",
       "      <td>37.0</td>\n",
       "      <td>1.42</td>\n",
       "      <td>3.54</td>\n",
       "      <td>66.9</td>\n",
       "      <td>93.7</td>\n",
       "      <td>65.3</td>\n",
       "    </tr>\n",
       "    <tr>\n",
       "      <th>596</th>\n",
       "      <td>3=Cirrhosis</td>\n",
       "      <td>56</td>\n",
       "      <td>m</td>\n",
       "      <td>23.0</td>\n",
       "      <td>105.6</td>\n",
       "      <td>5.1</td>\n",
       "      <td>123.0</td>\n",
       "      <td>43.0</td>\n",
       "      <td>1.80</td>\n",
       "      <td>2.40</td>\n",
       "      <td>62.7</td>\n",
       "      <td>35.9</td>\n",
       "      <td>62.8</td>\n",
       "    </tr>\n",
       "    <tr>\n",
       "      <th>597</th>\n",
       "      <td>3=Cirrhosis</td>\n",
       "      <td>56</td>\n",
       "      <td>m</td>\n",
       "      <td>30.0</td>\n",
       "      <td>40.4</td>\n",
       "      <td>0.9</td>\n",
       "      <td>80.3</td>\n",
       "      <td>119.0</td>\n",
       "      <td>1.88</td>\n",
       "      <td>1.43</td>\n",
       "      <td>79.3</td>\n",
       "      <td>17.6</td>\n",
       "      <td>54.2</td>\n",
       "    </tr>\n",
       "    <tr>\n",
       "      <th>598</th>\n",
       "      <td>3=Cirrhosis</td>\n",
       "      <td>58</td>\n",
       "      <td>m</td>\n",
       "      <td>31.0</td>\n",
       "      <td>143.1</td>\n",
       "      <td>7.0</td>\n",
       "      <td>181.8</td>\n",
       "      <td>58.0</td>\n",
       "      <td>3.29</td>\n",
       "      <td>3.92</td>\n",
       "      <td>66.4</td>\n",
       "      <td>273.7</td>\n",
       "      <td>78.1</td>\n",
       "    </tr>\n",
       "    <tr>\n",
       "      <th>599</th>\n",
       "      <td>3=Cirrhosis</td>\n",
       "      <td>59</td>\n",
       "      <td>m</td>\n",
       "      <td>36.0</td>\n",
       "      <td>49.7</td>\n",
       "      <td>5.2</td>\n",
       "      <td>110.1</td>\n",
       "      <td>37.0</td>\n",
       "      <td>2.29</td>\n",
       "      <td>3.68</td>\n",
       "      <td>118.2</td>\n",
       "      <td>56.9</td>\n",
       "      <td>74.8</td>\n",
       "    </tr>\n",
       "    <tr>\n",
       "      <th>600</th>\n",
       "      <td>3=Cirrhosis</td>\n",
       "      <td>59</td>\n",
       "      <td>m</td>\n",
       "      <td>27.0</td>\n",
       "      <td>73.8</td>\n",
       "      <td>4.0</td>\n",
       "      <td>65.2</td>\n",
       "      <td>209.0</td>\n",
       "      <td>2.47</td>\n",
       "      <td>3.61</td>\n",
       "      <td>71.7</td>\n",
       "      <td>28.5</td>\n",
       "      <td>60.6</td>\n",
       "    </tr>\n",
       "    <tr>\n",
       "      <th>601</th>\n",
       "      <td>3=Cirrhosis</td>\n",
       "      <td>59</td>\n",
       "      <td>m</td>\n",
       "      <td>31.0</td>\n",
       "      <td>86.3</td>\n",
       "      <td>5.4</td>\n",
       "      <td>95.4</td>\n",
       "      <td>117.0</td>\n",
       "      <td>1.57</td>\n",
       "      <td>3.51</td>\n",
       "      <td>60.5</td>\n",
       "      <td>53.6</td>\n",
       "      <td>68.5</td>\n",
       "    </tr>\n",
       "    <tr>\n",
       "      <th>602</th>\n",
       "      <td>3=Cirrhosis</td>\n",
       "      <td>61</td>\n",
       "      <td>m</td>\n",
       "      <td>39.0</td>\n",
       "      <td>102.9</td>\n",
       "      <td>27.3</td>\n",
       "      <td>143.2</td>\n",
       "      <td>15.0</td>\n",
       "      <td>5.38</td>\n",
       "      <td>4.88</td>\n",
       "      <td>72.3</td>\n",
       "      <td>400.3</td>\n",
       "      <td>73.4</td>\n",
       "    </tr>\n",
       "    <tr>\n",
       "      <th>603</th>\n",
       "      <td>3=Cirrhosis</td>\n",
       "      <td>65</td>\n",
       "      <td>m</td>\n",
       "      <td>NaN</td>\n",
       "      <td>NaN</td>\n",
       "      <td>40.0</td>\n",
       "      <td>54.0</td>\n",
       "      <td>13.0</td>\n",
       "      <td>7.50</td>\n",
       "      <td>NaN</td>\n",
       "      <td>70.0</td>\n",
       "      <td>107.0</td>\n",
       "      <td>79.0</td>\n",
       "    </tr>\n",
       "    <tr>\n",
       "      <th>604</th>\n",
       "      <td>3=Cirrhosis</td>\n",
       "      <td>74</td>\n",
       "      <td>m</td>\n",
       "      <td>23.0</td>\n",
       "      <td>34.1</td>\n",
       "      <td>2.1</td>\n",
       "      <td>90.4</td>\n",
       "      <td>22.0</td>\n",
       "      <td>2.50</td>\n",
       "      <td>3.29</td>\n",
       "      <td>51.0</td>\n",
       "      <td>46.8</td>\n",
       "      <td>57.1</td>\n",
       "    </tr>\n",
       "    <tr>\n",
       "      <th>605</th>\n",
       "      <td>3=Cirrhosis</td>\n",
       "      <td>42</td>\n",
       "      <td>f</td>\n",
       "      <td>33.0</td>\n",
       "      <td>79.0</td>\n",
       "      <td>3.7</td>\n",
       "      <td>55.7</td>\n",
       "      <td>200.0</td>\n",
       "      <td>1.72</td>\n",
       "      <td>5.16</td>\n",
       "      <td>89.1</td>\n",
       "      <td>146.3</td>\n",
       "      <td>69.9</td>\n",
       "    </tr>\n",
       "    <tr>\n",
       "      <th>606</th>\n",
       "      <td>3=Cirrhosis</td>\n",
       "      <td>49</td>\n",
       "      <td>f</td>\n",
       "      <td>33.0</td>\n",
       "      <td>190.7</td>\n",
       "      <td>1.2</td>\n",
       "      <td>36.3</td>\n",
       "      <td>7.0</td>\n",
       "      <td>6.92</td>\n",
       "      <td>3.82</td>\n",
       "      <td>485.9</td>\n",
       "      <td>112.0</td>\n",
       "      <td>58.5</td>\n",
       "    </tr>\n",
       "    <tr>\n",
       "      <th>607</th>\n",
       "      <td>3=Cirrhosis</td>\n",
       "      <td>52</td>\n",
       "      <td>f</td>\n",
       "      <td>39.0</td>\n",
       "      <td>37.0</td>\n",
       "      <td>1.3</td>\n",
       "      <td>30.4</td>\n",
       "      <td>21.0</td>\n",
       "      <td>6.33</td>\n",
       "      <td>3.78</td>\n",
       "      <td>158.2</td>\n",
       "      <td>142.5</td>\n",
       "      <td>82.7</td>\n",
       "    </tr>\n",
       "    <tr>\n",
       "      <th>608</th>\n",
       "      <td>3=Cirrhosis</td>\n",
       "      <td>58</td>\n",
       "      <td>f</td>\n",
       "      <td>34.0</td>\n",
       "      <td>46.4</td>\n",
       "      <td>15.0</td>\n",
       "      <td>150.0</td>\n",
       "      <td>8.0</td>\n",
       "      <td>6.26</td>\n",
       "      <td>3.98</td>\n",
       "      <td>56.0</td>\n",
       "      <td>49.7</td>\n",
       "      <td>80.6</td>\n",
       "    </tr>\n",
       "    <tr>\n",
       "      <th>609</th>\n",
       "      <td>3=Cirrhosis</td>\n",
       "      <td>59</td>\n",
       "      <td>f</td>\n",
       "      <td>39.0</td>\n",
       "      <td>51.3</td>\n",
       "      <td>19.6</td>\n",
       "      <td>285.8</td>\n",
       "      <td>40.0</td>\n",
       "      <td>5.77</td>\n",
       "      <td>4.51</td>\n",
       "      <td>136.1</td>\n",
       "      <td>101.1</td>\n",
       "      <td>70.5</td>\n",
       "    </tr>\n",
       "    <tr>\n",
       "      <th>610</th>\n",
       "      <td>3=Cirrhosis</td>\n",
       "      <td>62</td>\n",
       "      <td>f</td>\n",
       "      <td>32.0</td>\n",
       "      <td>416.6</td>\n",
       "      <td>5.9</td>\n",
       "      <td>110.3</td>\n",
       "      <td>50.0</td>\n",
       "      <td>5.57</td>\n",
       "      <td>6.30</td>\n",
       "      <td>55.7</td>\n",
       "      <td>650.9</td>\n",
       "      <td>68.5</td>\n",
       "    </tr>\n",
       "    <tr>\n",
       "      <th>611</th>\n",
       "      <td>3=Cirrhosis</td>\n",
       "      <td>64</td>\n",
       "      <td>f</td>\n",
       "      <td>24.0</td>\n",
       "      <td>102.8</td>\n",
       "      <td>2.9</td>\n",
       "      <td>44.4</td>\n",
       "      <td>20.0</td>\n",
       "      <td>1.54</td>\n",
       "      <td>3.02</td>\n",
       "      <td>63.0</td>\n",
       "      <td>35.9</td>\n",
       "      <td>71.3</td>\n",
       "    </tr>\n",
       "    <tr>\n",
       "      <th>612</th>\n",
       "      <td>3=Cirrhosis</td>\n",
       "      <td>64</td>\n",
       "      <td>f</td>\n",
       "      <td>29.0</td>\n",
       "      <td>87.3</td>\n",
       "      <td>3.5</td>\n",
       "      <td>99.0</td>\n",
       "      <td>48.0</td>\n",
       "      <td>1.66</td>\n",
       "      <td>3.63</td>\n",
       "      <td>66.7</td>\n",
       "      <td>64.2</td>\n",
       "      <td>82.0</td>\n",
       "    </tr>\n",
       "    <tr>\n",
       "      <th>613</th>\n",
       "      <td>3=Cirrhosis</td>\n",
       "      <td>46</td>\n",
       "      <td>f</td>\n",
       "      <td>33.0</td>\n",
       "      <td>NaN</td>\n",
       "      <td>39.0</td>\n",
       "      <td>62.0</td>\n",
       "      <td>20.0</td>\n",
       "      <td>3.56</td>\n",
       "      <td>4.20</td>\n",
       "      <td>52.0</td>\n",
       "      <td>50.0</td>\n",
       "      <td>71.0</td>\n",
       "    </tr>\n",
       "    <tr>\n",
       "      <th>614</th>\n",
       "      <td>3=Cirrhosis</td>\n",
       "      <td>59</td>\n",
       "      <td>f</td>\n",
       "      <td>36.0</td>\n",
       "      <td>NaN</td>\n",
       "      <td>100.0</td>\n",
       "      <td>80.0</td>\n",
       "      <td>12.0</td>\n",
       "      <td>9.07</td>\n",
       "      <td>5.30</td>\n",
       "      <td>67.0</td>\n",
       "      <td>34.0</td>\n",
       "      <td>68.0</td>\n",
       "    </tr>\n",
       "  </tbody>\n",
       "</table>\n",
       "</div>"
      ],
      "text/plain": [
       "        Category  Age Sex   ALB    ALP    ALT    AST    BIL   CHE  CHOL  \\\n",
       "585  3=Cirrhosis   38   m  44.0    NaN   94.0   60.0   12.0  4.37  3.20   \n",
       "586  3=Cirrhosis   39   m  34.0  137.8    4.8   35.6    9.0  3.65  4.82   \n",
       "587  3=Cirrhosis   41   m  31.0   85.3    4.8   60.2  200.0  1.80  5.34   \n",
       "588  3=Cirrhosis   42   m  36.0   69.6   14.9  263.1   40.0  3.61  3.93   \n",
       "589  3=Cirrhosis   45   m  29.0   11.3    7.1  101.9   31.0  1.73  3.71   \n",
       "590  3=Cirrhosis   46   m  20.0    NaN   62.0  113.0  254.0  1.48   NaN   \n",
       "591  3=Cirrhosis   46   m  35.0  109.6    2.3   19.2   11.0  7.10  4.10   \n",
       "592  3=Cirrhosis   47   m  42.0    NaN  159.0  102.0   11.0  6.29  5.50   \n",
       "593  3=Cirrhosis   51   m  39.0   66.0   29.6  185.0   19.0  2.00  3.60   \n",
       "594  3=Cirrhosis   51   m  33.0   29.6    4.5   66.6   91.0  4.02  4.08   \n",
       "595  3=Cirrhosis   56   m  27.0   81.1   17.0  319.8   37.0  1.42  3.54   \n",
       "596  3=Cirrhosis   56   m  23.0  105.6    5.1  123.0   43.0  1.80  2.40   \n",
       "597  3=Cirrhosis   56   m  30.0   40.4    0.9   80.3  119.0  1.88  1.43   \n",
       "598  3=Cirrhosis   58   m  31.0  143.1    7.0  181.8   58.0  3.29  3.92   \n",
       "599  3=Cirrhosis   59   m  36.0   49.7    5.2  110.1   37.0  2.29  3.68   \n",
       "600  3=Cirrhosis   59   m  27.0   73.8    4.0   65.2  209.0  2.47  3.61   \n",
       "601  3=Cirrhosis   59   m  31.0   86.3    5.4   95.4  117.0  1.57  3.51   \n",
       "602  3=Cirrhosis   61   m  39.0  102.9   27.3  143.2   15.0  5.38  4.88   \n",
       "603  3=Cirrhosis   65   m   NaN    NaN   40.0   54.0   13.0  7.50   NaN   \n",
       "604  3=Cirrhosis   74   m  23.0   34.1    2.1   90.4   22.0  2.50  3.29   \n",
       "605  3=Cirrhosis   42   f  33.0   79.0    3.7   55.7  200.0  1.72  5.16   \n",
       "606  3=Cirrhosis   49   f  33.0  190.7    1.2   36.3    7.0  6.92  3.82   \n",
       "607  3=Cirrhosis   52   f  39.0   37.0    1.3   30.4   21.0  6.33  3.78   \n",
       "608  3=Cirrhosis   58   f  34.0   46.4   15.0  150.0    8.0  6.26  3.98   \n",
       "609  3=Cirrhosis   59   f  39.0   51.3   19.6  285.8   40.0  5.77  4.51   \n",
       "610  3=Cirrhosis   62   f  32.0  416.6    5.9  110.3   50.0  5.57  6.30   \n",
       "611  3=Cirrhosis   64   f  24.0  102.8    2.9   44.4   20.0  1.54  3.02   \n",
       "612  3=Cirrhosis   64   f  29.0   87.3    3.5   99.0   48.0  1.66  3.63   \n",
       "613  3=Cirrhosis   46   f  33.0    NaN   39.0   62.0   20.0  3.56  4.20   \n",
       "614  3=Cirrhosis   59   f  36.0    NaN  100.0   80.0   12.0  9.07  5.30   \n",
       "\n",
       "       CREA    GGT  PROT  \n",
       "585    61.0   99.0  77.0  \n",
       "586   519.0  133.4  57.5  \n",
       "587   106.4  151.0  71.8  \n",
       "588    49.6   61.0  68.6  \n",
       "589    76.7   65.6  70.0  \n",
       "590   114.0  138.0   NaN  \n",
       "591  1079.1  105.6  69.1  \n",
       "592    58.0  201.0  79.0  \n",
       "593    58.3  399.5  79.4  \n",
       "594    75.9   28.5  62.3  \n",
       "595    66.9   93.7  65.3  \n",
       "596    62.7   35.9  62.8  \n",
       "597    79.3   17.6  54.2  \n",
       "598    66.4  273.7  78.1  \n",
       "599   118.2   56.9  74.8  \n",
       "600    71.7   28.5  60.6  \n",
       "601    60.5   53.6  68.5  \n",
       "602    72.3  400.3  73.4  \n",
       "603    70.0  107.0  79.0  \n",
       "604    51.0   46.8  57.1  \n",
       "605    89.1  146.3  69.9  \n",
       "606   485.9  112.0  58.5  \n",
       "607   158.2  142.5  82.7  \n",
       "608    56.0   49.7  80.6  \n",
       "609   136.1  101.1  70.5  \n",
       "610    55.7  650.9  68.5  \n",
       "611    63.0   35.9  71.3  \n",
       "612    66.7   64.2  82.0  \n",
       "613    52.0   50.0  71.0  \n",
       "614    67.0   34.0  68.0  "
      ]
     },
     "metadata": {},
     "output_type": "display_data"
    }
   ],
   "source": [
    "display(data[data[\"ALB\"].isna()])\n",
    "display(data[data[\"Category\"]==\"3=Cirrhosis\"])"
   ]
  },
  {
   "cell_type": "markdown",
   "id": "489f1e73-1c91-479e-9115-1706a2f8d036",
   "metadata": {},
   "source": [
    "В данных с классом 3 много пропусков, однако удалять их нельзя, т.к. самих данных очень мало."
   ]
  },
  {
   "cell_type": "code",
   "execution_count": 339,
   "id": "02a42de3-152b-410f-b28e-85b04fa72ac7",
   "metadata": {},
   "outputs": [
    {
     "data": {
      "image/png": "[encoded data removed]",
      "text/plain": [
       "<Figure size 1440x504 with 10 Axes>"
      ]
     },
     "metadata": {
      "needs_background": "light"
     },
     "output_type": "display_data"
    }
   ],
   "source": [
    "fig, axs = plt.subplots(2, 5, figsize=(20,7))\n",
    "i=0\n",
    "j=0\n",
    "\n",
    "for column in data.columns[3:]:\n",
    "    if i<5:\n",
    "        data[column].hist(ax=axs[j][i],bins=20)\n",
    "        axs[j][i].set_title(column)\n",
    "        i+=1\n",
    "    else:\n",
    "        j+=1 \n",
    "        i=0\n",
    "        data[column].hist(ax=axs[j][i],bins=20)\n",
    "        axs[j][i].set_title(column)\n",
    "        i+=1"
   ]
  },
  {
   "cell_type": "markdown",
   "id": "ba3a16ea-87d7-48fa-a51b-c55f816f9321",
   "metadata": {},
   "source": [
    "Заменим пропуски медианным значением по каждой категории"
   ]
  },
  {
   "cell_type": "code",
   "execution_count": 340,
   "id": "1dbac9b7-9b7a-48e5-bba2-f4f94737fe6f",
   "metadata": {},
   "outputs": [],
   "source": [
    "for column in data.columns[3:]:\n",
    "    data[column]=data[column].fillna(data[column].median())"
   ]
  },
  {
   "cell_type": "code",
   "execution_count": 341,
   "id": "e4759beb-9f35-40d1-b5ee-27fe522bf6c6",
   "metadata": {},
   "outputs": [
    {
     "data": {
      "text/plain": [
       "Category    0\n",
       "Age         0\n",
       "Sex         0\n",
       "ALB         0\n",
       "ALP         0\n",
       "ALT         0\n",
       "AST         0\n",
       "BIL         0\n",
       "CHE         0\n",
       "CHOL        0\n",
       "CREA        0\n",
       "GGT         0\n",
       "PROT        0\n",
       "dtype: int64"
      ]
     },
     "execution_count": 341,
     "metadata": {},
     "output_type": "execute_result"
    }
   ],
   "source": [
    "data.isna().sum()"
   ]
  },
  {
   "cell_type": "markdown",
   "id": "cde1c196-9f0d-463f-8774-314cd6581edc",
   "metadata": {},
   "source": [
    "### 2.3 Проверка мультиколлинеарности"
   ]
  },
  {
   "cell_type": "code",
   "execution_count": 342,
   "id": "e1d3b20e-7ddb-492a-96d1-30147ff50005",
   "metadata": {},
   "outputs": [
    {
     "data": {
      "image/png": "[encoded data removed]",
      "text/plain": [
       "<Figure size 720x504 with 2 Axes>"
      ]
     },
     "metadata": {
      "needs_background": "light"
     },
     "output_type": "display_data"
    }
   ],
   "source": [
    "fig, axes = plt.subplots(1, 1, sharex=True, figsize=(10,7))\n",
    "\n",
    "sns.heatmap(data.corr(), annot=True, fmt='.1g')\n",
    "plt.show()"
   ]
  },
  {
   "cell_type": "markdown",
   "id": "08808b6a-1beb-476e-b0d8-bcb9556d9be3",
   "metadata": {},
   "source": [
    "Между некоторыми величинами есть наблюдается средняя корреляция, что означает мультиколлинеарность этих величин. Однако, удалять я их не буду, т.к. связь недостаточно сильная"
   ]
  },
  {
   "cell_type": "markdown",
   "id": "418d25a3-ba78-4e79-8d70-1e77f1ac24f5",
   "metadata": {},
   "source": [
    "### 2.4 Проверка сбалансированности классов"
   ]
  },
  {
   "cell_type": "code",
   "execution_count": 343,
   "id": "175b27c9-1af5-4371-a804-110b9dee6bac",
   "metadata": {},
   "outputs": [
    {
     "name": "stdout",
     "output_type": "stream",
     "text": [
      "0=Blood Donor             533\n",
      "3=Cirrhosis                30\n",
      "1=Hepatitis                24\n",
      "2=Fibrosis                 21\n",
      "0s=suspect Blood Donor      7\n",
      "Name: Category, dtype: int64\n"
     ]
    }
   ],
   "source": [
    "print(data['Category'].value_counts())"
   ]
  },
  {
   "cell_type": "markdown",
   "id": "fd368ba1-00b2-43a2-b922-7569adcd00f1",
   "metadata": {},
   "source": [
    "Представленные классы не являются сбалансированными, что означает, что для обучения модели такие данные подходят не очень хорошо в сыром виде. Я планирую использовать взвешенную функцию потерь для минимизации дисбаланса в сочетании со стратифицированными выборками."
   ]
  },
  {
   "cell_type": "markdown",
   "id": "7bde2d8d-ec05-44bc-9c3d-3f737f5b65cb",
   "metadata": {},
   "source": [
    "### 2.5 Кодирование признаков"
   ]
  },
  {
   "cell_type": "markdown",
   "id": "2420042a-02c4-4bf3-9b27-b52454674c65",
   "metadata": {},
   "source": [
    "Закодируем категориальный признак Sex, а также целевой признак."
   ]
  },
  {
   "cell_type": "code",
   "execution_count": 344,
   "id": "8d74d03b-6674-4470-a601-bd20064baf08",
   "metadata": {},
   "outputs": [],
   "source": [
    "from sklearn.preprocessing import LabelEncoder\n",
    "target= LabelEncoder().fit_transform(data['Category'].values)\n",
    "target= np.array(target)"
   ]
  },
  {
   "cell_type": "code",
   "execution_count": 345,
   "id": "3b7ba5c5-1148-4d3e-a77a-ea722d8253fd",
   "metadata": {},
   "outputs": [
    {
     "data": {
      "text/html": [
       "<div>\n",
       "<style scoped>\n",
       "    .dataframe tbody tr th:only-of-type {\n",
       "        vertical-align: middle;\n",
       "    }\n",
       "\n",
       "    .dataframe tbody tr th {\n",
       "        vertical-align: top;\n",
       "    }\n",
       "\n",
       "    .dataframe thead th {\n",
       "        text-align: right;\n",
       "    }\n",
       "</style>\n",
       "<table border=\"1\" class=\"dataframe\">\n",
       "  <thead>\n",
       "    <tr style=\"text-align: right;\">\n",
       "      <th></th>\n",
       "      <th>Age</th>\n",
       "      <th>ALB</th>\n",
       "      <th>ALP</th>\n",
       "      <th>ALT</th>\n",
       "      <th>AST</th>\n",
       "      <th>BIL</th>\n",
       "      <th>CHE</th>\n",
       "      <th>CHOL</th>\n",
       "      <th>CREA</th>\n",
       "      <th>GGT</th>\n",
       "      <th>PROT</th>\n",
       "      <th>f</th>\n",
       "      <th>m</th>\n",
       "    </tr>\n",
       "  </thead>\n",
       "  <tbody>\n",
       "    <tr>\n",
       "      <th>0</th>\n",
       "      <td>32</td>\n",
       "      <td>38.5</td>\n",
       "      <td>52.5</td>\n",
       "      <td>7.7</td>\n",
       "      <td>22.1</td>\n",
       "      <td>7.5</td>\n",
       "      <td>6.93</td>\n",
       "      <td>3.23</td>\n",
       "      <td>106.0</td>\n",
       "      <td>12.1</td>\n",
       "      <td>69.0</td>\n",
       "      <td>0</td>\n",
       "      <td>1</td>\n",
       "    </tr>\n",
       "    <tr>\n",
       "      <th>1</th>\n",
       "      <td>32</td>\n",
       "      <td>38.5</td>\n",
       "      <td>70.3</td>\n",
       "      <td>18.0</td>\n",
       "      <td>24.7</td>\n",
       "      <td>3.9</td>\n",
       "      <td>11.17</td>\n",
       "      <td>4.80</td>\n",
       "      <td>74.0</td>\n",
       "      <td>15.6</td>\n",
       "      <td>76.5</td>\n",
       "      <td>0</td>\n",
       "      <td>1</td>\n",
       "    </tr>\n",
       "    <tr>\n",
       "      <th>2</th>\n",
       "      <td>32</td>\n",
       "      <td>46.9</td>\n",
       "      <td>74.7</td>\n",
       "      <td>36.2</td>\n",
       "      <td>52.6</td>\n",
       "      <td>6.1</td>\n",
       "      <td>8.84</td>\n",
       "      <td>5.20</td>\n",
       "      <td>86.0</td>\n",
       "      <td>33.2</td>\n",
       "      <td>79.3</td>\n",
       "      <td>0</td>\n",
       "      <td>1</td>\n",
       "    </tr>\n",
       "    <tr>\n",
       "      <th>3</th>\n",
       "      <td>32</td>\n",
       "      <td>43.2</td>\n",
       "      <td>52.0</td>\n",
       "      <td>30.6</td>\n",
       "      <td>22.6</td>\n",
       "      <td>18.9</td>\n",
       "      <td>7.33</td>\n",
       "      <td>4.74</td>\n",
       "      <td>80.0</td>\n",
       "      <td>33.8</td>\n",
       "      <td>75.7</td>\n",
       "      <td>0</td>\n",
       "      <td>1</td>\n",
       "    </tr>\n",
       "    <tr>\n",
       "      <th>4</th>\n",
       "      <td>32</td>\n",
       "      <td>39.2</td>\n",
       "      <td>74.1</td>\n",
       "      <td>32.6</td>\n",
       "      <td>24.8</td>\n",
       "      <td>9.6</td>\n",
       "      <td>9.15</td>\n",
       "      <td>4.32</td>\n",
       "      <td>76.0</td>\n",
       "      <td>29.9</td>\n",
       "      <td>68.7</td>\n",
       "      <td>0</td>\n",
       "      <td>1</td>\n",
       "    </tr>\n",
       "  </tbody>\n",
       "</table>\n",
       "</div>"
      ],
      "text/plain": [
       "   Age   ALB   ALP   ALT   AST   BIL    CHE  CHOL   CREA   GGT  PROT  f  m\n",
       "0   32  38.5  52.5   7.7  22.1   7.5   6.93  3.23  106.0  12.1  69.0  0  1\n",
       "1   32  38.5  70.3  18.0  24.7   3.9  11.17  4.80   74.0  15.6  76.5  0  1\n",
       "2   32  46.9  74.7  36.2  52.6   6.1   8.84  5.20   86.0  33.2  79.3  0  1\n",
       "3   32  43.2  52.0  30.6  22.6  18.9   7.33  4.74   80.0  33.8  75.7  0  1\n",
       "4   32  39.2  74.1  32.6  24.8   9.6   9.15  4.32   76.0  29.9  68.7  0  1"
      ]
     },
     "execution_count": 345,
     "metadata": {},
     "output_type": "execute_result"
    }
   ],
   "source": [
    "sex_data = pd.get_dummies(data['Sex'])\n",
    "data[sex_data.columns]=sex_data \n",
    "data=data.drop(columns=[\"Category\",\"Sex\"])\n",
    "\n",
    "data.head()"
   ]
  },
  {
   "cell_type": "markdown",
   "id": "24fe6340-8aa6-4263-9b8c-0962b1271341",
   "metadata": {},
   "source": [
    "### 2.6 Рассчет весов классов"
   ]
  },
  {
   "cell_type": "code",
   "execution_count": 346,
   "id": "e6b99db0-5dda-4da6-bcac-2d48dc365c78",
   "metadata": {},
   "outputs": [],
   "source": [
    "weights=[]\n",
    "for x in np.unique(target,axis = 0):\n",
    "    weights.append(1-(np.sum(target==x)/target.shape[0]))\n",
    "class_weights=torch.FloatTensor(weights)"
   ]
  },
  {
   "cell_type": "markdown",
   "id": "af88642e-cf7f-4723-b084-4ebd2bb40a3a",
   "metadata": {},
   "source": [
    "<div style=\"border:solid #4F6272 1px; padding: 4px\">\n",
    "\n",
    "\n",
    "    По итогу раздела был осуществлен обзор датафрейма, произведена проверка на пропуски, на наличие дубликатов,  признаки проверены на мультиколлинеарность. Проверка данных на выбросы не осуществлялась, т.к. вменяемость значений признаков должна быть оценена экспертами. Проверена сбалансированность классов. Рассчитаны веса каждого из классов для функции потерь."
   ]
  },
  {
   "cell_type": "markdown",
   "id": "dae9eac1-2115-480a-a498-3e0a1897c483",
   "metadata": {},
   "source": [
    "## 3. Разработка модели классификации"
   ]
  },
  {
   "cell_type": "markdown",
   "id": "a316edbb-fa84-4e39-89d9-08bf40718259",
   "metadata": {},
   "source": [
    "###  3.1. Использование SKFold для кросс-валидации"
   ]
  },
  {
   "cell_type": "code",
   "execution_count": 347,
   "id": "5d7d7837-7c44-4ac6-9aaa-da11852fbd40",
   "metadata": {},
   "outputs": [],
   "source": [
    "features = data\n",
    "scaler = StandardScaler()    \n",
    "scaled_features=scaler.fit_transform(features) "
   ]
  },
  {
   "cell_type": "code",
   "execution_count": 348,
   "id": "43afdf77-02e7-420e-840f-30f6aa7d7ddd",
   "metadata": {},
   "outputs": [],
   "source": [
    "skf = StratifiedKFold(n_splits=5,random_state=13, shuffle=True)"
   ]
  },
  {
   "cell_type": "code",
   "execution_count": 349,
   "id": "b4aeb4f2-308c-4e3f-82f2-09792772731b",
   "metadata": {},
   "outputs": [],
   "source": [
    "scaled_features=torch.tensor(scaled_features)\n",
    "target=torch.tensor(target.astype(\"long\"))"
   ]
  },
  {
   "cell_type": "code",
   "execution_count": 350,
   "id": "34771d9c-6e4b-465d-8e36-7fd24d3872b5",
   "metadata": {},
   "outputs": [],
   "source": [
    "LR = 1e-3\n",
    "N_EPOCH = 1300\n",
    "DROP_PROB=0.3"
   ]
  },
  {
   "cell_type": "code",
   "execution_count": 351,
   "id": "b314a856-bb74-485f-a13a-cfea5133d36e",
   "metadata": {},
   "outputs": [],
   "source": [
    "def train(model, scaled_features, target,loss_function, optimizer):\n",
    "    epoch_score_train=[]\n",
    "    epoch_score_test=[]\n",
    "    for epoch in tqdm(range(1, N_EPOCH+1)):\n",
    "        score_list=[]\n",
    "        score_test=[]\n",
    "        for i, (train_index, test_index) in enumerate(skf.split(scaled_features, target)):\n",
    "            train_features=scaled_features[train_index]\n",
    "            train_target=target[train_index]\n",
    "            \n",
    "            test_features=scaled_features[test_index]\n",
    "            test_target=target[test_index]\n",
    "            \n",
    "            model.train()\n",
    "            train_predictions = model(train_features.float())\n",
    "            loss = loss_function(train_predictions, train_target.long())\n",
    "            optimizer.zero_grad()\n",
    "            loss.backward()\n",
    "            optimizer.step()\n",
    "            \n",
    "            class_list=[]\n",
    "            for i in train_predictions:\n",
    "                class_list.append(np.argmax(i.detach().numpy()))\n",
    "            score_list.append(f1_score(train_target,class_list,average='micro'))\n",
    "            \n",
    "            with torch.no_grad():\n",
    "                test_predictions = model(test_features.float())\n",
    "                test_class=[]\n",
    "                for i in test_predictions:\n",
    "                    test_class.append(np.argmax(i.detach().numpy()))\n",
    "                score_test.append(f1_score(test_target,test_class,average='micro'))\n",
    "        train_f1=np.mean(score_list)\n",
    "        test_f1=np.mean(score_test)\n",
    "        epoch_score_train.append(train_f1)\n",
    "        epoch_score_test.append(test_f1)\n",
    "        if epoch % 50 == 0:\n",
    "            print('Epoch : {:3d} / {}, Train_f1 : {:.2f}, Test_f1 : {:.2f}'.format(\n",
    "            epoch, N_EPOCH, train_f1, test_f1))\n",
    "    return epoch_score_train, epoch_score_test"
   ]
  },
  {
   "cell_type": "markdown",
   "id": "62494b7a-adad-4d80-b8f7-c878ec0cfd54",
   "metadata": {},
   "source": [
    "###  3.2. НC с использованиеми дроп-аут c оптимизатором Adam"
   ]
  },
  {
   "cell_type": "code",
   "execution_count": 352,
   "id": "222404a7-cbf2-438a-b5dd-c393f9594295",
   "metadata": {},
   "outputs": [],
   "source": [
    "loss_function=torch.nn.CrossEntropyLoss(weight = class_weights)"
   ]
  },
  {
   "cell_type": "code",
   "execution_count": 353,
   "id": "0d3a44b7-b7d9-4ceb-b8f1-06f5789258d2",
   "metadata": {},
   "outputs": [],
   "source": [
    "class DNN_1(nn.Module):\n",
    "    def __init__(self, DROP_PROB=0.3):\n",
    "        super(DNN_1, self).__init__()\n",
    "        \n",
    "        self.fc1 = nn.Linear(13, 8)\n",
    "        self.fc2 = nn.Linear(8, 5)\n",
    "        self.relu = nn.ReLU()\n",
    "        self.dropout = nn.Dropout(p=DROP_PROB)\n",
    "    \n",
    "    def forward(self, x):\n",
    "        x = self.fc1(x)\n",
    "        x = self.relu(x)\n",
    "        x = self.dropout(x)\n",
    "        x = self.fc2(x)\n",
    "        return x"
   ]
  },
  {
   "cell_type": "code",
   "execution_count": 354,
   "id": "15c05499-9003-46cd-87ba-c74380d56e62",
   "metadata": {},
   "outputs": [],
   "source": [
    "model=DNN_1(DROP_PROB)\n",
    "optimizer = torch.optim.Adam(model.parameters(), lr=0.0001)"
   ]
  },
  {
   "cell_type": "code",
   "execution_count": 355,
   "id": "81fe5aa8-8279-452b-bdc2-4814359460c8",
   "metadata": {},
   "outputs": [
    {
     "data": {
      "application/vnd.jupyter.widget-view+json": {
       "model_id": "d5d9129d630a4292901be3cb9aed00f4",
       "version_major": 2,
       "version_minor": 0
      },
      "text/plain": [
       "  0%|          | 0/1300 [00:00<?, ?it/s]"
      ]
     },
     "metadata": {},
     "output_type": "display_data"
    },
    {
     "name": "stdout",
     "output_type": "stream",
     "text": [
      "Epoch :  50 / 1300, Train_f1 : 0.47, Test_f1 : 0.47\n",
      "Epoch : 100 / 1300, Train_f1 : 0.67, Test_f1 : 0.68\n",
      "Epoch : 150 / 1300, Train_f1 : 0.79, Test_f1 : 0.79\n",
      "Epoch : 200 / 1300, Train_f1 : 0.84, Test_f1 : 0.85\n",
      "Epoch : 250 / 1300, Train_f1 : 0.85, Test_f1 : 0.85\n",
      "Epoch : 300 / 1300, Train_f1 : 0.87, Test_f1 : 0.87\n",
      "Epoch : 350 / 1300, Train_f1 : 0.89, Test_f1 : 0.88\n",
      "Epoch : 400 / 1300, Train_f1 : 0.88, Test_f1 : 0.90\n",
      "Epoch : 450 / 1300, Train_f1 : 0.89, Test_f1 : 0.89\n",
      "Epoch : 500 / 1300, Train_f1 : 0.88, Test_f1 : 0.89\n",
      "Epoch : 550 / 1300, Train_f1 : 0.88, Test_f1 : 0.89\n",
      "Epoch : 600 / 1300, Train_f1 : 0.89, Test_f1 : 0.89\n",
      "Epoch : 650 / 1300, Train_f1 : 0.90, Test_f1 : 0.89\n",
      "Epoch : 700 / 1300, Train_f1 : 0.90, Test_f1 : 0.91\n",
      "Epoch : 750 / 1300, Train_f1 : 0.91, Test_f1 : 0.90\n",
      "Epoch : 800 / 1300, Train_f1 : 0.90, Test_f1 : 0.89\n",
      "Epoch : 850 / 1300, Train_f1 : 0.90, Test_f1 : 0.89\n",
      "Epoch : 900 / 1300, Train_f1 : 0.91, Test_f1 : 0.91\n",
      "Epoch : 950 / 1300, Train_f1 : 0.90, Test_f1 : 0.91\n",
      "Epoch : 1000 / 1300, Train_f1 : 0.91, Test_f1 : 0.89\n",
      "Epoch : 1050 / 1300, Train_f1 : 0.90, Test_f1 : 0.90\n",
      "Epoch : 1100 / 1300, Train_f1 : 0.90, Test_f1 : 0.91\n",
      "Epoch : 1150 / 1300, Train_f1 : 0.90, Test_f1 : 0.91\n",
      "Epoch : 1200 / 1300, Train_f1 : 0.91, Test_f1 : 0.91\n",
      "Epoch : 1250 / 1300, Train_f1 : 0.90, Test_f1 : 0.91\n",
      "Epoch : 1300 / 1300, Train_f1 : 0.91, Test_f1 : 0.91\n"
     ]
    }
   ],
   "source": [
    "train_list, test_list = train(model, scaled_features, target, loss_function, optimizer)"
   ]
  },
  {
   "cell_type": "code",
   "execution_count": 358,
   "id": "610067a6-c856-45d9-ae8b-7d19100c18f0",
   "metadata": {},
   "outputs": [
    {
     "data": {
      "image/png": "[encoded data removed]",
      "text/plain": [
       "<Figure size 720x504 with 1 Axes>"
      ]
     },
     "metadata": {
      "needs_background": "light"
     },
     "output_type": "display_data"
    }
   ],
   "source": [
    "fig, axes = plt.subplots(1, 1, sharex=True, figsize=(10,7))\n",
    "axes.plot(range(len(train_list)),train_list,color='purple')\n",
    "axes.plot(range(len(test_list)),test_list,color=\"pink\")\n",
    "plt.grid(True)\n",
    "plt.xlabel('epoch')\n",
    "plt.ylabel('f1 score')\n",
    "plt.show()"
   ]
  },
  {
   "cell_type": "markdown",
   "id": "4cf18817-271a-498f-a1aa-744922848076",
   "metadata": {},
   "source": [
    "###  3.3. НC без дроп-аут с оптимизатором Rprop"
   ]
  },
  {
   "cell_type": "code",
   "execution_count": 359,
   "id": "34704936-7def-4c16-991e-872839a84e72",
   "metadata": {},
   "outputs": [],
   "source": [
    "N_EPOCH = 300"
   ]
  },
  {
   "cell_type": "code",
   "execution_count": 360,
   "id": "2124d621-a227-4348-bf67-67aae538317f",
   "metadata": {},
   "outputs": [],
   "source": [
    "loss_function=torch.nn.CrossEntropyLoss(weight = class_weights)"
   ]
  },
  {
   "cell_type": "code",
   "execution_count": 361,
   "id": "1157e886-8da9-4cae-a48a-e30e1df8246d",
   "metadata": {},
   "outputs": [],
   "source": [
    "class DNN_2(nn.Module):\n",
    "    def __init__(self):\n",
    "        super(DNN_2, self).__init__()\n",
    "        \n",
    "        self.fc1 = nn.Linear(features.shape[1], 8)\n",
    "        self.fc2 = nn.Linear(8, 5)\n",
    "        self.relu = nn.ReLU()\n",
    "\n",
    "    def forward(self, x):\n",
    "        x = self.fc1(x)\n",
    "        x = self.relu(x)\n",
    "        x = self.fc2(x)\n",
    "        return x"
   ]
  },
  {
   "cell_type": "code",
   "execution_count": 362,
   "id": "da6ef333-9f40-4e1b-a1e7-7778dcecb3ab",
   "metadata": {},
   "outputs": [],
   "source": [
    "model=DNN_2()\n",
    "optimizer = torch.optim.Rprop(model.parameters(), lr=0.0001)"
   ]
  },
  {
   "cell_type": "code",
   "execution_count": 363,
   "id": "838281b1-aa19-4d68-8c6f-b9dba7d66fd2",
   "metadata": {},
   "outputs": [
    {
     "data": {
      "application/vnd.jupyter.widget-view+json": {
       "model_id": "38c3eedf235546fba240ede8c65602cc",
       "version_major": 2,
       "version_minor": 0
      },
      "text/plain": [
       "  0%|          | 0/300 [00:00<?, ?it/s]"
      ]
     },
     "metadata": {},
     "output_type": "display_data"
    },
    {
     "name": "stdout",
     "output_type": "stream",
     "text": [
      "Epoch :  50 / 300, Train_f1 : 0.98, Test_f1 : 0.98\n",
      "Epoch : 100 / 300, Train_f1 : 0.97, Test_f1 : 0.97\n",
      "Epoch : 150 / 300, Train_f1 : 0.97, Test_f1 : 0.97\n",
      "Epoch : 200 / 300, Train_f1 : 0.97, Test_f1 : 0.97\n",
      "Epoch : 250 / 300, Train_f1 : 0.97, Test_f1 : 0.97\n",
      "Epoch : 300 / 300, Train_f1 : 0.97, Test_f1 : 0.97\n"
     ]
    }
   ],
   "source": [
    "train_list, test_list=train(model, scaled_features, target, loss_function, optimizer)"
   ]
  },
  {
   "cell_type": "code",
   "execution_count": 364,
   "id": "70ad8a19-9453-4823-a9d3-e5e1cb31c02e",
   "metadata": {},
   "outputs": [
    {
     "data": {
      "image/png": "[encoded data removed]",
      "text/plain": [
       "<Figure size 720x504 with 1 Axes>"
      ]
     },
     "metadata": {
      "needs_background": "light"
     },
     "output_type": "display_data"
    }
   ],
   "source": [
    "fig, axes = plt.subplots(1, 1, sharex=True, figsize=(10,7))\n",
    "axes.plot(range(len(train_list)),train_list,color='purple')\n",
    "axes.plot(range(len(test_list)),test_list,color=\"pink\")\n",
    "plt.grid(True)\n",
    "plt.xlabel('epoch')\n",
    "plt.ylabel('f1 score')\n",
    "plt.show()"
   ]
  },
  {
   "cell_type": "markdown",
   "id": "145173ae-7e26-4ac6-bce8-02156f42682d",
   "metadata": {},
   "source": [
    "## 4. Проверка оптимальности моделей классификации"
   ]
  },
  {
   "cell_type": "markdown",
   "id": "a39bcf02-4823-4844-99c8-980d82ac5259",
   "metadata": {},
   "source": [
    "###  4.1. Подбор гиперпараметров НC с использованиеми дроп-аут c оптимизатором Adam"
   ]
  },
  {
   "cell_type": "code",
   "execution_count": 365,
   "id": "d76b851c-9143-407b-96ff-4b0148c0d939",
   "metadata": {},
   "outputs": [],
   "source": [
    "params_grid = ParameterGrid({'p':[0.3,0.5,0.7],'lr': [0.001,0.01,0.1]})\n",
    "loss_function=torch.nn.CrossEntropyLoss(weight = class_weights)"
   ]
  },
  {
   "cell_type": "code",
   "execution_count": 366,
   "id": "0728cfde-488e-4de2-9866-ef630b28d6c9",
   "metadata": {},
   "outputs": [
    {
     "data": {
      "application/vnd.jupyter.widget-view+json": {
       "model_id": "728c893908e14e41a6e232a3ccd3e01c",
       "version_major": 2,
       "version_minor": 0
      },
      "text/plain": [
       "  0%|          | 0/9 [00:00<?, ?it/s]"
      ]
     },
     "metadata": {},
     "output_type": "display_data"
    },
    {
     "name": "stdout",
     "output_type": "stream",
     "text": [
      "\n",
      "parameters configuration: {'lr': 0.001, 'p': 0.3}\n"
     ]
    },
    {
     "data": {
      "application/vnd.jupyter.widget-view+json": {
       "model_id": "1c3ad46ca85743a7a40f17379df6958a",
       "version_major": 2,
       "version_minor": 0
      },
      "text/plain": [
       "  0%|          | 0/300 [00:00<?, ?it/s]"
      ]
     },
     "metadata": {},
     "output_type": "display_data"
    },
    {
     "name": "stdout",
     "output_type": "stream",
     "text": [
      "Epoch :  50 / 300, Train_f1 : 0.77, Test_f1 : 0.77\n",
      "Epoch : 100 / 300, Train_f1 : 0.87, Test_f1 : 0.87\n",
      "Epoch : 150 / 300, Train_f1 : 0.88, Test_f1 : 0.87\n",
      "Epoch : 200 / 300, Train_f1 : 0.88, Test_f1 : 0.89\n",
      "Epoch : 250 / 300, Train_f1 : 0.90, Test_f1 : 0.90\n",
      "Epoch : 300 / 300, Train_f1 : 0.89, Test_f1 : 0.90\n",
      "\n",
      "parameters configuration: {'lr': 0.001, 'p': 0.5}\n"
     ]
    },
    {
     "data": {
      "application/vnd.jupyter.widget-view+json": {
       "model_id": "a0fb8fb0e6fe4e27adcb8178424c46ea",
       "version_major": 2,
       "version_minor": 0
      },
      "text/plain": [
       "  0%|          | 0/300 [00:00<?, ?it/s]"
      ]
     },
     "metadata": {},
     "output_type": "display_data"
    },
    {
     "name": "stdout",
     "output_type": "stream",
     "text": [
      "Epoch :  50 / 300, Train_f1 : 0.87, Test_f1 : 0.89\n",
      "Epoch : 100 / 300, Train_f1 : 0.90, Test_f1 : 0.90\n",
      "Epoch : 150 / 300, Train_f1 : 0.91, Test_f1 : 0.90\n",
      "Epoch : 200 / 300, Train_f1 : 0.90, Test_f1 : 0.90\n",
      "Epoch : 250 / 300, Train_f1 : 0.90, Test_f1 : 0.91\n",
      "Epoch : 300 / 300, Train_f1 : 0.91, Test_f1 : 0.89\n",
      "\n",
      "parameters configuration: {'lr': 0.001, 'p': 0.7}\n"
     ]
    },
    {
     "data": {
      "application/vnd.jupyter.widget-view+json": {
       "model_id": "3a09f5b892254c559cac8f7f422f4359",
       "version_major": 2,
       "version_minor": 0
      },
      "text/plain": [
       "  0%|          | 0/300 [00:00<?, ?it/s]"
      ]
     },
     "metadata": {},
     "output_type": "display_data"
    },
    {
     "name": "stdout",
     "output_type": "stream",
     "text": [
      "Epoch :  50 / 300, Train_f1 : 0.71, Test_f1 : 0.72\n",
      "Epoch : 100 / 300, Train_f1 : 0.88, Test_f1 : 0.87\n",
      "Epoch : 150 / 300, Train_f1 : 0.88, Test_f1 : 0.88\n",
      "Epoch : 200 / 300, Train_f1 : 0.88, Test_f1 : 0.88\n",
      "Epoch : 250 / 300, Train_f1 : 0.88, Test_f1 : 0.86\n",
      "Epoch : 300 / 300, Train_f1 : 0.88, Test_f1 : 0.86\n",
      "\n",
      "parameters configuration: {'lr': 0.01, 'p': 0.3}\n"
     ]
    },
    {
     "data": {
      "application/vnd.jupyter.widget-view+json": {
       "model_id": "05751080fb6846ac9266b8b83e983d79",
       "version_major": 2,
       "version_minor": 0
      },
      "text/plain": [
       "  0%|          | 0/300 [00:00<?, ?it/s]"
      ]
     },
     "metadata": {},
     "output_type": "display_data"
    },
    {
     "name": "stdout",
     "output_type": "stream",
     "text": [
      "Epoch :  50 / 300, Train_f1 : 0.93, Test_f1 : 0.93\n",
      "Epoch : 100 / 300, Train_f1 : 0.92, Test_f1 : 0.92\n",
      "Epoch : 150 / 300, Train_f1 : 0.92, Test_f1 : 0.94\n",
      "Epoch : 200 / 300, Train_f1 : 0.92, Test_f1 : 0.90\n",
      "Epoch : 250 / 300, Train_f1 : 0.92, Test_f1 : 0.93\n",
      "Epoch : 300 / 300, Train_f1 : 0.91, Test_f1 : 0.90\n",
      "\n",
      "parameters configuration: {'lr': 0.01, 'p': 0.5}\n"
     ]
    },
    {
     "data": {
      "application/vnd.jupyter.widget-view+json": {
       "model_id": "eb9d6c1951e441128515c2d251de8c68",
       "version_major": 2,
       "version_minor": 0
      },
      "text/plain": [
       "  0%|          | 0/300 [00:00<?, ?it/s]"
      ]
     },
     "metadata": {},
     "output_type": "display_data"
    },
    {
     "name": "stdout",
     "output_type": "stream",
     "text": [
      "Epoch :  50 / 300, Train_f1 : 0.85, Test_f1 : 0.86\n",
      "Epoch : 100 / 300, Train_f1 : 0.86, Test_f1 : 0.83\n",
      "Epoch : 150 / 300, Train_f1 : 0.83, Test_f1 : 0.84\n",
      "Epoch : 200 / 300, Train_f1 : 0.85, Test_f1 : 0.85\n",
      "Epoch : 250 / 300, Train_f1 : 0.83, Test_f1 : 0.85\n",
      "Epoch : 300 / 300, Train_f1 : 0.85, Test_f1 : 0.84\n",
      "\n",
      "parameters configuration: {'lr': 0.01, 'p': 0.7}\n"
     ]
    },
    {
     "data": {
      "application/vnd.jupyter.widget-view+json": {
       "model_id": "8467bc03c8f34c29a0af0b35e0d61a45",
       "version_major": 2,
       "version_minor": 0
      },
      "text/plain": [
       "  0%|          | 0/300 [00:00<?, ?it/s]"
      ]
     },
     "metadata": {},
     "output_type": "display_data"
    },
    {
     "name": "stdout",
     "output_type": "stream",
     "text": [
      "Epoch :  50 / 300, Train_f1 : 0.89, Test_f1 : 0.89\n",
      "Epoch : 100 / 300, Train_f1 : 0.90, Test_f1 : 0.89\n",
      "Epoch : 150 / 300, Train_f1 : 0.90, Test_f1 : 0.89\n",
      "Epoch : 200 / 300, Train_f1 : 0.90, Test_f1 : 0.90\n",
      "Epoch : 250 / 300, Train_f1 : 0.90, Test_f1 : 0.92\n",
      "Epoch : 300 / 300, Train_f1 : 0.91, Test_f1 : 0.90\n",
      "\n",
      "parameters configuration: {'lr': 0.1, 'p': 0.3}\n"
     ]
    },
    {
     "data": {
      "application/vnd.jupyter.widget-view+json": {
       "model_id": "56f45f3c9cbf42c3a66cc121aa8533b2",
       "version_major": 2,
       "version_minor": 0
      },
      "text/plain": [
       "  0%|          | 0/300 [00:00<?, ?it/s]"
      ]
     },
     "metadata": {},
     "output_type": "display_data"
    },
    {
     "name": "stdout",
     "output_type": "stream",
     "text": [
      "Epoch :  50 / 300, Train_f1 : 0.91, Test_f1 : 0.91\n",
      "Epoch : 100 / 300, Train_f1 : 0.94, Test_f1 : 0.92\n",
      "Epoch : 150 / 300, Train_f1 : 0.91, Test_f1 : 0.90\n",
      "Epoch : 200 / 300, Train_f1 : 0.92, Test_f1 : 0.91\n",
      "Epoch : 250 / 300, Train_f1 : 0.90, Test_f1 : 0.91\n",
      "Epoch : 300 / 300, Train_f1 : 0.85, Test_f1 : 0.87\n",
      "\n",
      "parameters configuration: {'lr': 0.1, 'p': 0.5}\n"
     ]
    },
    {
     "data": {
      "application/vnd.jupyter.widget-view+json": {
       "model_id": "88f31ea4c05d4d639a0600eb302496a2",
       "version_major": 2,
       "version_minor": 0
      },
      "text/plain": [
       "  0%|          | 0/300 [00:00<?, ?it/s]"
      ]
     },
     "metadata": {},
     "output_type": "display_data"
    },
    {
     "name": "stdout",
     "output_type": "stream",
     "text": [
      "Epoch :  50 / 300, Train_f1 : 0.81, Test_f1 : 0.81\n",
      "Epoch : 100 / 300, Train_f1 : 0.84, Test_f1 : 0.85\n",
      "Epoch : 150 / 300, Train_f1 : 0.82, Test_f1 : 0.82\n",
      "Epoch : 200 / 300, Train_f1 : 0.85, Test_f1 : 0.83\n",
      "Epoch : 250 / 300, Train_f1 : 0.85, Test_f1 : 0.84\n",
      "Epoch : 300 / 300, Train_f1 : 0.84, Test_f1 : 0.84\n",
      "\n",
      "parameters configuration: {'lr': 0.1, 'p': 0.7}\n"
     ]
    },
    {
     "data": {
      "application/vnd.jupyter.widget-view+json": {
       "model_id": "bed36c9d737c4af5bb3dece69d3cefa9",
       "version_major": 2,
       "version_minor": 0
      },
      "text/plain": [
       "  0%|          | 0/300 [00:00<?, ?it/s]"
      ]
     },
     "metadata": {},
     "output_type": "display_data"
    },
    {
     "name": "stdout",
     "output_type": "stream",
     "text": [
      "Epoch :  50 / 300, Train_f1 : 0.89, Test_f1 : 0.90\n",
      "Epoch : 100 / 300, Train_f1 : 0.89, Test_f1 : 0.89\n",
      "Epoch : 150 / 300, Train_f1 : 0.89, Test_f1 : 0.88\n",
      "Epoch : 200 / 300, Train_f1 : 0.89, Test_f1 : 0.89\n",
      "Epoch : 250 / 300, Train_f1 : 0.89, Test_f1 : 0.90\n",
      "Epoch : 300 / 300, Train_f1 : 0.89, Test_f1 : 0.89\n"
     ]
    }
   ],
   "source": [
    "f1_scores=[]\n",
    "for param in tqdm(params_grid):\n",
    "    print('\\nparameters configuration:',param)\n",
    "    model=DNN_1(DROP_PROB=param['p'])\n",
    "    model.train()\n",
    "    optimizer = torch.optim.Adam(model.parameters(), lr=param['lr'])\n",
    "    train(model, scaled_features, target, loss_function, optimizer)"
   ]
  },
  {
   "cell_type": "markdown",
   "id": "8fe63d83-337e-4f39-ad56-bb5f5dbb9307",
   "metadata": {},
   "source": [
    "###  4.2. Оптимизация гиперпараметров НC без дроп-аут с оптимизатором Rprop"
   ]
  },
  {
   "cell_type": "code",
   "execution_count": 367,
   "id": "cb909d3d-b199-4b56-8851-5e0a9d10b425",
   "metadata": {},
   "outputs": [],
   "source": [
    "params_grid=ParameterGrid({'lr': [0.0001,0.001,0.01,0.1]})"
   ]
  },
  {
   "cell_type": "code",
   "execution_count": 368,
   "id": "f1e1e927-806b-41b9-8015-f3f77cc7efce",
   "metadata": {},
   "outputs": [
    {
     "data": {
      "application/vnd.jupyter.widget-view+json": {
       "model_id": "7efcb03facd94017977f4c39badfc5d2",
       "version_major": 2,
       "version_minor": 0
      },
      "text/plain": [
       "  0%|          | 0/4 [00:00<?, ?it/s]"
      ]
     },
     "metadata": {},
     "output_type": "display_data"
    },
    {
     "name": "stdout",
     "output_type": "stream",
     "text": [
      "\n",
      "parameters configuration: {'lr': 0.0001}\n"
     ]
    },
    {
     "data": {
      "application/vnd.jupyter.widget-view+json": {
       "model_id": "76186bb689c54db489da1ea5e0700262",
       "version_major": 2,
       "version_minor": 0
      },
      "text/plain": [
       "  0%|          | 0/300 [00:00<?, ?it/s]"
      ]
     },
     "metadata": {},
     "output_type": "display_data"
    },
    {
     "name": "stdout",
     "output_type": "stream",
     "text": [
      "Epoch :  50 / 300, Train_f1 : 0.98, Test_f1 : 0.98\n",
      "Epoch : 100 / 300, Train_f1 : 0.97, Test_f1 : 0.97\n",
      "Epoch : 150 / 300, Train_f1 : 0.97, Test_f1 : 0.97\n",
      "Epoch : 200 / 300, Train_f1 : 0.97, Test_f1 : 0.97\n",
      "Epoch : 250 / 300, Train_f1 : 0.97, Test_f1 : 0.97\n",
      "Epoch : 300 / 300, Train_f1 : 0.97, Test_f1 : 0.97\n",
      "\n",
      "parameters configuration: {'lr': 0.001}\n"
     ]
    },
    {
     "data": {
      "application/vnd.jupyter.widget-view+json": {
       "model_id": "2b427fd61158468a85b64cbd032f9ae3",
       "version_major": 2,
       "version_minor": 0
      },
      "text/plain": [
       "  0%|          | 0/300 [00:00<?, ?it/s]"
      ]
     },
     "metadata": {},
     "output_type": "display_data"
    },
    {
     "name": "stdout",
     "output_type": "stream",
     "text": [
      "Epoch :  50 / 300, Train_f1 : 0.97, Test_f1 : 0.97\n",
      "Epoch : 100 / 300, Train_f1 : 0.97, Test_f1 : 0.97\n",
      "Epoch : 150 / 300, Train_f1 : 0.98, Test_f1 : 0.98\n",
      "Epoch : 200 / 300, Train_f1 : 0.98, Test_f1 : 0.98\n",
      "Epoch : 250 / 300, Train_f1 : 0.99, Test_f1 : 0.99\n",
      "Epoch : 300 / 300, Train_f1 : 0.99, Test_f1 : 0.99\n",
      "\n",
      "parameters configuration: {'lr': 0.01}\n"
     ]
    },
    {
     "data": {
      "application/vnd.jupyter.widget-view+json": {
       "model_id": "c0f980cb2ede4f93b98e96326f96f089",
       "version_major": 2,
       "version_minor": 0
      },
      "text/plain": [
       "  0%|          | 0/300 [00:00<?, ?it/s]"
      ]
     },
     "metadata": {},
     "output_type": "display_data"
    },
    {
     "name": "stdout",
     "output_type": "stream",
     "text": [
      "Epoch :  50 / 300, Train_f1 : 0.98, Test_f1 : 0.98\n",
      "Epoch : 100 / 300, Train_f1 : 0.98, Test_f1 : 0.98\n",
      "Epoch : 150 / 300, Train_f1 : 0.98, Test_f1 : 0.98\n",
      "Epoch : 200 / 300, Train_f1 : 0.98, Test_f1 : 0.98\n",
      "Epoch : 250 / 300, Train_f1 : 0.98, Test_f1 : 0.98\n",
      "Epoch : 300 / 300, Train_f1 : 0.98, Test_f1 : 0.98\n",
      "\n",
      "parameters configuration: {'lr': 0.1}\n"
     ]
    },
    {
     "data": {
      "application/vnd.jupyter.widget-view+json": {
       "model_id": "0992ebcf65e74e1399d0744f52c2ef11",
       "version_major": 2,
       "version_minor": 0
      },
      "text/plain": [
       "  0%|          | 0/300 [00:00<?, ?it/s]"
      ]
     },
     "metadata": {},
     "output_type": "display_data"
    },
    {
     "name": "stdout",
     "output_type": "stream",
     "text": [
      "Epoch :  50 / 300, Train_f1 : 0.98, Test_f1 : 0.98\n",
      "Epoch : 100 / 300, Train_f1 : 0.98, Test_f1 : 0.98\n",
      "Epoch : 150 / 300, Train_f1 : 0.98, Test_f1 : 0.98\n",
      "Epoch : 200 / 300, Train_f1 : 0.98, Test_f1 : 0.98\n",
      "Epoch : 250 / 300, Train_f1 : 0.98, Test_f1 : 0.98\n",
      "Epoch : 300 / 300, Train_f1 : 0.98, Test_f1 : 0.98\n"
     ]
    }
   ],
   "source": [
    "for param in tqdm(params_grid):\n",
    "    print('\\nparameters configuration:',param)\n",
    "    model=DNN_2()\n",
    "    model.train()\n",
    "    optimizer = torch.optim.Rprop(model.parameters(), lr=param['lr'])\n",
    "    train(model, scaled_features, target, loss_function, optimizer)"
   ]
  },
  {
   "cell_type": "markdown",
   "id": "f39477a6-47bf-42ea-b9c2-1a816e9df545",
   "metadata": {},
   "source": [
    "## 4. Выводы"
   ]
  },
  {
   "cell_type": "markdown",
   "id": "f49a43c4-465f-48f6-bc91-5c67bab1d6b1",
   "metadata": {},
   "source": [
    "<div style=\"border:solid #8A2BE2 2px; padding: 40px\">\n",
    "    \n",
    "Задачей исследования было построение модели  классификации поражения печени у пациентов по лабораторным и нелабораторным признакам.\n",
    "В ходе исследования были изучены предоставленные данные, произведена предобработка данных, включая проверку на пропуски, мультиколлинеарность, дубликаты,а также маштабирование признаков.\n",
    "\n",
    "Рассматриваемые данные обладали рядом недостатков, среди которых несбалансированность классов (объектов остальных классов меньше в 6,5 раз, чем объектов лидирующего класса), малый объем самих данных, а также наличие пропусков  в классах с малым количеством объектов. В ходе работы было принято решение о применении SKfold в сочетании со взвешенной функцией потерь. Веса каждого из классов были расчитаны с учетом количества представителей данного класса в рассматриваемой выборке.\n",
    "    \n",
    "Были рассмотрены две двухслойные нейронные сети: с использованием дроп-аут и без использования. В качестве оптимизаторов был выбран Adam и Rprop, в качестве метрики использовалась f1_score. В качестве функции потерь использовалась функция Кросс-энтропии.\n",
    "\n",
    "Первая модель показала результат метрики, равный\n",
    "* f1 на валидационной выборке: **0.9**\n",
    "    \n",
    "Вторая модель показала результат метрики, равный\n",
    "* f1 на валидационной выборке: **0.98**    \n",
    "\n",
    "__________________________\n",
    "Рекомендации: Для улучшения работы модели имеет смысл оценить выбросы в признаках с точки зрения здравого смысла, проверить нет ли в данных аномальных значений, а также дополнить данные для увеличения выборки."
   ]
  },
  {
   "cell_type": "code",
   "execution_count": null,
   "id": "ded1a924-34bc-4db7-a8f7-aa5e6ef36240",
   "metadata": {},
   "outputs": [],
   "source": []
  }
 ],
 "metadata": {
  "kernelspec": {
   "display_name": "Python 3 (ipykernel)",
   "language": "python",
   "name": "python3"
  },
  "language_info": {
   "codemirror_mode": {
    "name": "ipython",
    "version": 3
   },
   "file_extension": ".py",
   "mimetype": "text/x-python",
   "name": "python",
   "nbconvert_exporter": "python",
   "pygments_lexer": "ipython3",
   "version": "3.9.7"
  }
 },
 "nbformat": 4,
 "nbformat_minor": 5
}
