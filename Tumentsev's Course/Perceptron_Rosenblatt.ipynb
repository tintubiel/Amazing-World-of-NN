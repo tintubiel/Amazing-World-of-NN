{
 "cells": [
  {
   "cell_type": "markdown",
   "id": "33c62942-6d7b-4dbb-bfd5-39712d305397",
   "metadata": {},
   "source": [
    "# Binary Perceptron (Rosenblatt)"
   ]
  },
  {
   "cell_type": "markdown",
   "id": "c705df52-e8a7-44ee-bc27-6f6caa655664",
   "metadata": {},
   "source": [
    " * Для первой обучающей выборки построить и обучить сеть, которая будет правильно относить точки к двум классам. \n",
    " * Отобразить дискриминантную линию и проверить качество обучения"
   ]
  },
  {
   "cell_type": "code",
   "execution_count": 526,
   "id": "179948c0-745e-46fb-93da-75cedf7b89ff",
   "metadata": {},
   "outputs": [],
   "source": [
    "import numpy as np\n",
    "from sklearn.metrics import mean_absolute_error as mae\n",
    "\n",
    "def hardlim(x):\n",
    "    if x >=0: \n",
    "        return 1 \n",
    "    else : \n",
    "        return 0\n",
    "\n",
    "class BinaryPerceptron:\n",
    "    \n",
    "    def __init__(self, epoch=50, learning_rate=1, random_state=1):\n",
    "        self.w = np.array([])\n",
    "        self.epoch = epoch\n",
    "        self.learning_rate = learning_rate\n",
    "        self.random_state = random_state\n",
    "\n",
    "    def fit(self, x, y):\n",
    "        rand = np.random.RandomState(self.random_state)\n",
    "        n_features,n_objects  = x.shape #число обьектов,число признаков\n",
    "        self.xtrain = np.vstack((x,np.ones(n_objects)))\n",
    "        self.ytrain = y\n",
    "        self.w = rand.normal(loc=0.0, scale=0.01, size=n_features+1)\n",
    "        k=self.w\n",
    "        print(k)\n",
    "\n",
    "        #list_of_params.append(k)\n",
    "        e=1\n",
    "        error=1\n",
    "        sum_errors=0\n",
    "        while (e<self.epoch and error!=0):\n",
    "            list_of_params.append(self.w)\n",
    "            for index, iy in enumerate(self.ytrain):\n",
    "                y_pred = hardlim(np.dot(self.w.T, self.xtrain[:,index]))\n",
    "                error =iy-y_pred \n",
    "                \n",
    "                self.w += error*self.learning_rate*(iy * self.xtrain[:,index] )\n",
    "                print(self.w)\n",
    "            e+=1\n",
    "        return(self.w,list_of_params)\n",
    "                \n",
    "    def predict(self, x):\n",
    "        y_pred=[]\n",
    "        n_features,n_objects  = x.shape\n",
    "        self.xtest = np.vstack((x,np.ones(n_objects)))\n",
    "        for index in range(self.xtest.shape[1]):\n",
    "            y_pred.append(hardlim(np.dot(self.w.T, self.xtest[:,index])))\n",
    "        return (y_pred)\n",
    "            "
   ]
  },
  {
   "cell_type": "code",
   "execution_count": 480,
   "id": "3e5ed2d4-12d0-4603-a6a4-f38722f8e214",
   "metadata": {},
   "outputs": [
    {
     "name": "stdout",
     "output_type": "stream",
     "text": [
      "[ 0.00441227 -0.0033087   0.02430771]\n",
      "[ 0.00441227 -0.0033087   0.02430771]\n",
      "[ 0.00441227 -0.0033087   0.02430771]\n",
      "[ 0.00441227 -0.0033087   0.02430771]\n",
      "[ 0.00441227 -0.0033087   0.02430771]\n",
      "[ 0.00441227 -0.0033087   0.02430771]\n",
      "[-4.19558773  2.6966913   1.02430771]\n",
      "[-4.19558773  2.6966913   1.02430771]\n",
      "[-4.19558773  2.6966913   1.02430771]\n",
      "[-4.19558773  2.6966913   1.02430771]\n",
      "[-4.19558773  2.6966913   1.02430771]\n",
      "[-5.59558773 -0.3033087   2.02430771]\n",
      "[-5.59558773 -0.3033087   2.02430771]\n"
     ]
    }
   ],
   "source": [
    "X=np.array([[4.7,-4.2,-1.4,0.9,-1.4,-4.2],[3.6,-1.4,1.8,2.8,-3,2.7]])\n",
    "y=np.array([0,1,1,1,1,1])\n",
    "\n",
    "b_per = BinaryPerceptron(epoch=50, learning_rate=1, random_state=5)\n",
    "weights,list_of_params=b_per.fit(X, y)\n",
    "#print(mae(y,y_predicted))\n",
    "#print('list',list_of_params)\n",
    "#!pip list\n",
    "first=[ 0.00441227,-0.0033087,0.02430771]"
   ]
  },
  {
   "cell_type": "code",
   "execution_count": 481,
   "id": "a691115f-dd8b-472c-8f4b-20562c2abfb0",
   "metadata": {},
   "outputs": [
    {
     "data": {
      "text/plain": [
       "[<matplotlib.lines.Line2D at 0x202df2975e0>]"
      ]
     },
     "execution_count": 481,
     "metadata": {},
     "output_type": "execute_result"
    },
    {
     "data": {
      "image/png": "[encoded data removed]",
      "text/plain": [
       "<Figure size 432x288 with 1 Axes>"
      ]
     },
     "metadata": {
      "needs_background": "light"
     },
     "output_type": "display_data"
    }
   ],
   "source": [
    "\n",
    "class1=[[],[]]\n",
    "class2=[[],[]]\n",
    "for i in range(len(y)):\n",
    "    if y[i]==0:\n",
    "        class1[0].append(X[0][i])\n",
    "        class1[1].append(X[1][i])\n",
    "    else:\n",
    "        class2[0].append(X[0][i])\n",
    "        class2[1].append(X[1][i])\n",
    "        \n",
    "plt.scatter(class1[0], class1[1],\n",
    "            color='blue', marker='x', label='0')\n",
    "plt.scatter(class2[0], class2[1],\n",
    "            color='red', marker='o', label='1')\n",
    "\n",
    "plt.legend(loc='lower right')\n",
    "plt.grid()\n",
    "\n",
    "def decision(t,list_of_params): \n",
    "    return -(first[0] * t + first[2])/first[1]\n",
    "plt.plot(t, decision(t,list_of_params), color=\"black\")\n"
   ]
  },
  {
   "cell_type": "code",
   "execution_count": 482,
   "id": "03550940-30ae-4277-9e71-2c646f25904c",
   "metadata": {},
   "outputs": [],
   "source": [
    "X1=np.array([[4.7,-4.2,-1.4,-2,2,4],[3.6,-1.4,1.8,4,-4,2]])\n",
    "y1=np.array([0,1,1,1,0,0])\n",
    "\n",
    "y_predicted=b_per.predict(X1)"
   ]
  },
  {
   "cell_type": "code",
   "execution_count": 519,
   "id": "65d61bc5-53fc-4f63-9642-ec7fae6dc331",
   "metadata": {},
   "outputs": [
    {
     "data": {
      "image/png": "[encoded data removed]",
      "text/plain": [
       "<Figure size 432x288 with 1 Axes>"
      ]
     },
     "metadata": {
      "needs_background": "light"
     },
     "output_type": "display_data"
    }
   ],
   "source": [
    "import matplotlib.pyplot as plt\n",
    "\n",
    "class1=[[],[]]\n",
    "class2=[[],[]]\n",
    "for i in range(len(y1)):\n",
    "    if y1[i]==0:\n",
    "        class1[0].append(X1[0][i])\n",
    "        class1[1].append(X1[1][i])\n",
    "    else:\n",
    "        class2[0].append(X1[0][i])\n",
    "        class2[1].append(X1[1][i])\n",
    "        \n",
    "plt.scatter(class1[0], class1[1],\n",
    "            color='blue', marker='x', label='0')\n",
    "plt.scatter(class2[0], class2[1],\n",
    "            color='red', marker='o', label='1')\n",
    "\n",
    "t = np.linspace(-2,4,num=50)\n",
    "\n",
    "def decision(x): \n",
    "    return -(weights[0] * x + weights[2])/weights[1]\n",
    "\n",
    "plt.plot(t, decision(t), color=\"black\")\n",
    "\n",
    "plt.xlabel('x1')\n",
    "plt.ylabel('x2')\n",
    "plt.legend(loc='lower right')\n",
    "plt.xlim(-6,6)\n",
    "plt.ylim(-6,6)\n",
    "plt.grid()\n",
    "plt.show()\n",
    "\n",
    "#print(list_of_params)"
   ]
  },
  {
   "cell_type": "markdown",
   "id": "7102ca27-3c01-4aa3-91c5-ee078ad16071",
   "metadata": {},
   "source": [
    "# Non Linear Separability Classes"
   ]
  },
  {
   "cell_type": "markdown",
   "id": "d62a0154-e104-422f-89f1-30e3b89cdcc8",
   "metadata": {},
   "source": [
    "* Изменить обучающее множество так, чтобы классы стали линейно неразделимыми. \n",
    "* Проверить возможности обучения по правилу Розенблатта."
   ]
  },
  {
   "cell_type": "code",
   "execution_count": 531,
   "id": "a535595a-5748-4bfe-9e5d-350374f79b3f",
   "metadata": {},
   "outputs": [
    {
     "name": "stdout",
     "output_type": "stream",
     "text": [
      "[ 0.01624345 -0.00611756 -0.00528172]\n",
      "[ 0.01624345 -0.00611756 -0.00528172]\n",
      "[ 0.01624345 -0.00611756 -0.00528172]\n",
      "[-1.38375655  1.79388244  0.99471828]\n",
      "[-1.38375655  1.79388244  0.99471828]\n",
      "[-2.78375655 -1.20611756  1.99471828]\n",
      "[-2.78375655 -1.20611756  1.99471828]\n"
     ]
    },
    {
     "data": {
      "text/plain": [
       "[0, 1, 1, 0, 1, 1]"
      ]
     },
     "execution_count": 531,
     "metadata": {},
     "output_type": "execute_result"
    }
   ],
   "source": [
    "X=np.array([[4.7,-4.2,-1.4,0.9,-1.4,-4.2],[3.6,-1.4,1.8,2.8,-3,2.7]])\n",
    "y=np.array([0,0,1,1,1,1])\n",
    "\n",
    "b_per = BinaryPerceptron(epoch=1000, learning_rate=1, random_state=1)\n",
    "b_per.fit(X, y)\n",
    "#print(weights)\n",
    "b_per.predict(X)"
   ]
  },
  {
   "cell_type": "code",
   "execution_count": 533,
   "id": "0a874af7-9ffd-464a-8306-023c1b5d8f3e",
   "metadata": {},
   "outputs": [
    {
     "data": {
      "image/png": "[encoded data removed]",
      "text/plain": [
       "<Figure size 432x288 with 1 Axes>"
      ]
     },
     "metadata": {
      "needs_background": "light"
     },
     "output_type": "display_data"
    }
   ],
   "source": [
    "import matplotlib.pyplot as plt\n",
    "\n",
    "class1=[[],[]]\n",
    "class2=[[],[]]\n",
    "for i in range(len(y)):\n",
    "    if y[i]==0:\n",
    "        class1[0].append(X[0][i])\n",
    "        class1[1].append(X[1][i])\n",
    "    else:\n",
    "        class2[0].append(X[0][i])\n",
    "        class2[1].append(X[1][i])\n",
    "        \n",
    "plt.scatter(class1[0], class1[1],\n",
    "            color='blue', marker='x', label='0')\n",
    "plt.scatter(class2[0], class2[1],\n",
    "            color='red', marker='o', label='1')\n",
    "\n",
    "t = np.linspace(-2,4,num=50)\n",
    "\n",
    "def decision(x): \n",
    "    return -(weights[0] * x + weights[2])/weights[1]\n",
    "\n",
    "plt.plot(t, decision(t), color=\"black\")\n",
    "\n",
    "plt.xlabel('x1')\n",
    "plt.ylabel('x2')\n",
    "plt.legend(loc='lower right')\n",
    "plt.xlim(-5,5)\n",
    "plt.ylim(-5,5)\n",
    "plt.grid()\n",
    "plt.show()"
   ]
  },
  {
   "cell_type": "markdown",
   "id": "fd0eb6a6-d523-41f2-94e3-951e51b2d9b6",
   "metadata": {},
   "source": [
    "# Multiclass Perceptron (Rosenblatt) with Pytorch"
   ]
  },
  {
   "cell_type": "markdown",
   "id": "660f4b75-bc08-44a3-be2b-68bf5b9a5a0f",
   "metadata": {},
   "source": [
    "* Для второй обучающей выборки построить и обучить сеть, которая будет правильно относить точки к четырем классам. \n",
    "* Отобразить дискриминантную линию и проверить качество обучения."
   ]
  },
  {
   "cell_type": "code",
   "execution_count": 534,
   "id": "66630241-1008-4695-b9b6-c79e0bc642a4",
   "metadata": {},
   "outputs": [],
   "source": [
    "import torch\n",
    "import torch.nn as nn\n",
    "import numpy as np\n",
    "import torch.nn.functional as fun\n",
    "\n",
    "def hardlim(x):\n",
    "    y = torch.empty(x.size(dim=0),x.size(dim=1))\n",
    "    for i in range(x.size(dim=1)):\n",
    "        for j in range(x[:,i].size(dim=0)):\n",
    "            if  x[j,i]>=0: \n",
    "                y[j,i]=1\n",
    "            else : \n",
    "                y[j,i]=0\n",
    "    return y"
   ]
  },
  {
   "cell_type": "code",
   "execution_count": 535,
   "id": "78f0fe25-8847-4ff5-9979-21d9532d9c52",
   "metadata": {},
   "outputs": [],
   "source": [
    "class Perceptron_Rosenblatt(nn.Module):\n",
    "    def __init__(self, nX, nY):        \n",
    "        super(Perceptron_Rosenblatt, self).__init__() # конструктор предка с этим именем\n",
    "        self.fc1 = nn.Linear(nX, nY)\n",
    "        self.fc1.weight.detach()\n",
    "        self.fc1.bias.detach()# создаём параметры модели\n",
    "          \n",
    "    def forward(self, x): # задаётся прямой проход\n",
    "        x = self.fc1(x)   # выход слоя\n",
    "        x = hardlim(x)                                \n",
    "        return x\n",
    "          "
   ]
  },
  {
   "cell_type": "code",
   "execution_count": 486,
   "id": "dada2f51-1d50-4591-aa8a-3ad4ca0cbc65",
   "metadata": {},
   "outputs": [],
   "source": [
    "model = Perceptron_Rosenblatt(2, 2)"
   ]
  },
  {
   "cell_type": "code",
   "execution_count": 536,
   "id": "f45ec7cf-60a3-453e-b477-e53ff7163306",
   "metadata": {},
   "outputs": [],
   "source": [
    "def train(model, x, y, num_epochs, learning_rate=0.01, random_state=3):               \n",
    "    \n",
    "    torch.manual_seed(random_state)  \n",
    "    shuffle_idx = torch.randperm(y.size(0), dtype=torch.long) #задаем параметр перемешивания \n",
    "    x_i = x[shuffle_idx]\n",
    "    y_i = y[shuffle_idx]\n",
    "    list_of_params=[]\n",
    "    e=1\n",
    "    err=torch.ones_like(y_i) #устанавливаем начальную ошибку\n",
    "    while e<num_epochs and torch.any(torch.ne(err,torch.zeros_like(y_i))):\n",
    "        y_pred = model.forward(x_i)     # прямое распространение\n",
    "        err=y_i-y_pred\n",
    "        for i in range(err.size(dim=0)):\n",
    "            if torch.any(torch.ne(err[i],torch.zeros_like(err[i]))):\n",
    "                print(*model.parameters())\n",
    "                with torch.no_grad(): #обновляем веса\n",
    "                    model.fc1.weight += learning_rate*err[i]*torch.t(x_i[i])\n",
    "                    model.fc1.bias += learning_rate*err[i]\n",
    "                    \n",
    "        e+=1\n",
    "    return(list(model.parameters()))\n",
    "\n"
   ]
  },
  {
   "cell_type": "code",
   "execution_count": 537,
   "id": "8c4845d8-7620-4c15-a284-66900b10a7d7",
   "metadata": {},
   "outputs": [],
   "source": [
    "X_arr=np.array([[-2.7,1,-0.5,2.7,1.6,3.4,-2.5,0.8],[-3.9,-0.5,1.6,-1.5,-0.9,3.3,1.1,0.4]])\n",
    "y_arr=np.array([[1, 0, 1, 0, 0, 0, 1, 0],[1, 0, 0, 0, 0 ,0 ,1 ,0]])\n",
    "\n",
    "\n",
    "X_at=np.array([[-2.7,2.7,1.6,3.4,-2.5,0.8,-3,-0.8,1.4,-0.5,0],[-3.9,-1.5,-0.9,3.3,1.1,0.4,-1.6,3.5,1.2,0.5,0]])\n",
    "X_t=torch.empty(len(X_at[0]),len(X_at))\n",
    "\n",
    "\n",
    "X=torch.empty(len(X_arr[0]),len(X_arr))\n",
    "y=torch.empty(len(y_arr[0]),len(y_arr))\n",
    "\n",
    "for i in range(len(X_arr[0])): #парсим вход для нужного нам вида\n",
    "    for j in range(len(X_arr[0])):\n",
    "        X[i,0],X[i,1]=X_arr[0][i],X_arr[1][i]\n",
    "        y[i,0],y[i,1]=y_arr[0][i],y_arr[1][i]\n",
    "\n",
    "for i in range(len(X_at[0])): #парсим вход для нужного нам вида\n",
    "    for j in range(len(X_at[0])):\n",
    "        X_t[i,0],X_t[i,1]=X_at[0][i],X_at[1][i]"
   ]
  },
  {
   "cell_type": "code",
   "execution_count": 538,
   "id": "bbf63d2e-7f1b-45f2-ae72-1b1cbc8b2638",
   "metadata": {},
   "outputs": [
    {
     "name": "stdout",
     "output_type": "stream",
     "text": [
      "Parameter containing:\n",
      "tensor([[-0.6657,  0.0781],\n",
      "        [-0.1455,  0.0137]], requires_grad=True) Parameter containing:\n",
      "tensor([ 0.0983, -0.0966], requires_grad=True)\n"
     ]
    }
   ],
   "source": [
    "X_train=X[:5,:]\n",
    "y_train=y[:5,:]       \n",
    "\n",
    "fit_param = train(model, #обучаем модель на тренировочной выборке\n",
    "             X_train, y_train,\n",
    "             num_epochs=50,\n",
    "             learning_rate=0.01,\n",
    "             random_state=1)\n",
    "\n",
    "weigths_param, bias_param=fit_param[0], fit_param[1] #запоминаем параметры модели для построения\n",
    "\n",
    "print(weigths_param, bias_param)"
   ]
  },
  {
   "cell_type": "code",
   "execution_count": 539,
   "id": "cfe0c1f8-099e-4149-9c04-e1f8840aef50",
   "metadata": {},
   "outputs": [],
   "source": [
    "train_pred = model.forward(X_t) #проверяем на тестовой"
   ]
  },
  {
   "cell_type": "code",
   "execution_count": 540,
   "id": "48196004-918b-484c-bcef-23c8d1675e10",
   "metadata": {},
   "outputs": [
    {
     "data": {
      "image/png": "[encoded data removed]",
      "text/plain": [
       "<Figure size 432x288 with 1 Axes>"
      ]
     },
     "metadata": {
      "needs_background": "light"
     },
     "output_type": "display_data"
    }
   ],
   "source": [
    "import matplotlib.pyplot as plt\n",
    "\n",
    "class1=[[],[]]\n",
    "class2=[[],[]]\n",
    "class3=[[],[]]\n",
    "\n",
    "for i in range(train_pred.size(dim=0)):\n",
    "    if torch.equal(train_pred[i,:],torch.zeros_like(train_pred[i,:])):\n",
    "        class1[0].append(X_t[i,0].item())\n",
    "        class1[1].append(X_t[i,1].item())\n",
    "    elif torch.equal(train_pred[i,:],torch.ones_like(train_pred[i,:])):\n",
    "        class2[0].append(X_t[i,0].item())\n",
    "        class2[1].append(X_t[i,1].item())\n",
    "    else:\n",
    "        class3[0].append(X_t[i,0].item())\n",
    "        class3[1].append(X_t[i,1].item())\n",
    "        \n",
    "        \n",
    "plt.scatter(class1[0], class1[1],\n",
    "            color='blue', marker='x', label='0')\n",
    "plt.scatter(class2[0], class2[1],\n",
    "            color='red', marker='o', label='1')\n",
    "plt.scatter(class3[0], class3[1],\n",
    "            color='cyan', marker='>', label='2')\n",
    "\n",
    "t = np.linspace(-4,4,num=50)\n",
    "\n",
    "def decision(x): \n",
    "    answer=[]\n",
    "    for i in range(2):\n",
    "         answer.append(-(weigths_param[i][0].item() * x + bias_param[i].item())/weigths_param[i][1].item())\n",
    "    return answer\n",
    "\n",
    "plt.plot(t, decision(t)[0], color=\"purple\")\n",
    "plt.plot(t, decision(t)[1], color=\"pink\")\n",
    "\n",
    "plt.xlabel('x1')\n",
    "plt.ylabel('x2')\n",
    "plt.legend(loc='upper left')\n",
    "plt.grid()\n",
    "plt.show()\n",
    "\n"
   ]
  },
  {
   "cell_type": "code",
   "execution_count": null,
   "id": "18cb0610-6f1a-4ef8-ac87-d213585d68e6",
   "metadata": {},
   "outputs": [],
   "source": []
  },
  {
   "cell_type": "code",
   "execution_count": null,
   "id": "02b1414c-6a3d-4c3c-95f6-f40e24519d32",
   "metadata": {},
   "outputs": [],
   "source": []
  }
 ],
 "metadata": {
  "kernelspec": {
   "display_name": "Python 3 (ipykernel)",
   "language": "python",
   "name": "python3"
  },
  "language_info": {
   "codemirror_mode": {
    "name": "ipython",
    "version": 3
   },
   "file_extension": ".py",
   "mimetype": "text/x-python",
   "name": "python",
   "nbconvert_exporter": "python",
   "pygments_lexer": "ipython3",
   "version": "3.9.7"
  }
 },
 "nbformat": 4,
 "nbformat_minor": 5
}
